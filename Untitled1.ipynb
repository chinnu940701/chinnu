{
 "cells": [
  {
   "cell_type": "code",
   "execution_count": 1,
   "id": "e0ef1104-c66e-4684-9462-47a9b8dfb8bc",
   "metadata": {},
   "outputs": [
    {
     "ename": "ModuleNotFoundError",
     "evalue": "No module named 'llama_index'",
     "output_type": "error",
     "traceback": [
      "\u001b[1;31m---------------------------------------------------------------------------\u001b[0m",
      "\u001b[1;31mModuleNotFoundError\u001b[0m                       Traceback (most recent call last)",
      "Cell \u001b[1;32mIn[1], line 1\u001b[0m\n\u001b[1;32m----> 1\u001b[0m \u001b[38;5;28;01mfrom\u001b[39;00m \u001b[38;5;21;01mllama_index\u001b[39;00m\u001b[38;5;21;01m.\u001b[39;00m\u001b[38;5;21;01mcore\u001b[39;00m \u001b[38;5;28;01mimport\u001b[39;00m VectorStoreIndex, SimpleDirectoryReader\n",
      "\u001b[1;31mModuleNotFoundError\u001b[0m: No module named 'llama_index'"
     ]
    }
   ],
   "source": [
    "from llama_index.core import VectorStoreIndex, SimpleDirectoryReader"
   ]
  },
  {
   "cell_type": "code",
   "execution_count": 4,
   "id": "5e41f4ef-1b4b-4bda-a344-0e088dbf70f2",
   "metadata": {},
   "outputs": [
    {
     "name": "stdout",
     "output_type": "stream",
     "text": [
      "Requirement already satisfied: llama-index in c:\\users\\succe\\anaconda3\\lib\\site-packages (0.10.55)\n",
      "Requirement already satisfied: llama-index-agent-openai<0.3.0,>=0.1.4 in c:\\users\\succe\\anaconda3\\lib\\site-packages (from llama-index) (0.2.8)\n",
      "Requirement already satisfied: llama-index-cli<0.2.0,>=0.1.2 in c:\\users\\succe\\anaconda3\\lib\\site-packages (from llama-index) (0.1.12)\n",
      "Requirement already satisfied: llama-index-core==0.10.55 in c:\\users\\succe\\anaconda3\\lib\\site-packages (from llama-index) (0.10.55)\n",
      "Requirement already satisfied: llama-index-embeddings-openai<0.2.0,>=0.1.5 in c:\\users\\succe\\anaconda3\\lib\\site-packages (from llama-index) (0.1.10)\n",
      "Requirement already satisfied: llama-index-indices-managed-llama-cloud>=0.2.0 in c:\\users\\succe\\anaconda3\\lib\\site-packages (from llama-index) (0.2.5)\n",
      "Requirement already satisfied: llama-index-legacy<0.10.0,>=0.9.48 in c:\\users\\succe\\anaconda3\\lib\\site-packages (from llama-index) (0.9.48)\n",
      "Requirement already satisfied: llama-index-llms-openai<0.2.0,>=0.1.13 in c:\\users\\succe\\anaconda3\\lib\\site-packages (from llama-index) (0.1.25)\n",
      "Requirement already satisfied: llama-index-multi-modal-llms-openai<0.2.0,>=0.1.3 in c:\\users\\succe\\anaconda3\\lib\\site-packages (from llama-index) (0.1.7)\n",
      "Requirement already satisfied: llama-index-program-openai<0.2.0,>=0.1.3 in c:\\users\\succe\\anaconda3\\lib\\site-packages (from llama-index) (0.1.6)\n",
      "Requirement already satisfied: llama-index-question-gen-openai<0.2.0,>=0.1.2 in c:\\users\\succe\\anaconda3\\lib\\site-packages (from llama-index) (0.1.3)\n",
      "Requirement already satisfied: llama-index-readers-file<0.2.0,>=0.1.4 in c:\\users\\succe\\anaconda3\\lib\\site-packages (from llama-index) (0.1.30)\n",
      "Requirement already satisfied: llama-index-readers-llama-parse>=0.1.2 in c:\\users\\succe\\anaconda3\\lib\\site-packages (from llama-index) (0.1.6)\n",
      "Requirement already satisfied: PyYAML>=6.0.1 in c:\\users\\succe\\anaconda3\\lib\\site-packages (from llama-index-core==0.10.55->llama-index) (6.0.1)\n",
      "Requirement already satisfied: SQLAlchemy>=1.4.49 in c:\\users\\succe\\anaconda3\\lib\\site-packages (from SQLAlchemy[asyncio]>=1.4.49->llama-index-core==0.10.55->llama-index) (2.0.30)\n",
      "Requirement already satisfied: aiohttp<4.0.0,>=3.8.6 in c:\\users\\succe\\anaconda3\\lib\\site-packages (from llama-index-core==0.10.55->llama-index) (3.9.5)\n",
      "Requirement already satisfied: dataclasses-json in c:\\users\\succe\\anaconda3\\lib\\site-packages (from llama-index-core==0.10.55->llama-index) (0.6.7)\n",
      "Requirement already satisfied: deprecated>=1.2.9.3 in c:\\users\\succe\\anaconda3\\lib\\site-packages (from llama-index-core==0.10.55->llama-index) (1.2.14)\n",
      "Requirement already satisfied: dirtyjson<2.0.0,>=1.0.8 in c:\\users\\succe\\anaconda3\\lib\\site-packages (from llama-index-core==0.10.55->llama-index) (1.0.8)\n",
      "Requirement already satisfied: fsspec>=2023.5.0 in c:\\users\\succe\\anaconda3\\lib\\site-packages (from llama-index-core==0.10.55->llama-index) (2024.3.1)\n",
      "Requirement already satisfied: httpx in c:\\users\\succe\\anaconda3\\lib\\site-packages (from llama-index-core==0.10.55->llama-index) (0.26.0)\n",
      "Requirement already satisfied: nest-asyncio<2.0.0,>=1.5.8 in c:\\users\\succe\\anaconda3\\lib\\site-packages (from llama-index-core==0.10.55->llama-index) (1.6.0)\n",
      "Requirement already satisfied: networkx>=3.0 in c:\\users\\succe\\anaconda3\\lib\\site-packages (from llama-index-core==0.10.55->llama-index) (3.2.1)\n",
      "Requirement already satisfied: nltk<4.0.0,>=3.8.1 in c:\\users\\succe\\anaconda3\\lib\\site-packages (from llama-index-core==0.10.55->llama-index) (3.8.1)\n",
      "Requirement already satisfied: numpy<2.0.0 in c:\\users\\succe\\anaconda3\\lib\\site-packages (from llama-index-core==0.10.55->llama-index) (1.26.4)\n",
      "Requirement already satisfied: openai>=1.1.0 in c:\\users\\succe\\anaconda3\\lib\\site-packages (from llama-index-core==0.10.55->llama-index) (1.35.14)\n",
      "Requirement already satisfied: pandas in c:\\users\\succe\\anaconda3\\lib\\site-packages (from llama-index-core==0.10.55->llama-index) (2.2.2)\n",
      "Requirement already satisfied: pillow>=9.0.0 in c:\\users\\succe\\anaconda3\\lib\\site-packages (from llama-index-core==0.10.55->llama-index) (10.3.0)\n",
      "Requirement already satisfied: requests>=2.31.0 in c:\\users\\succe\\anaconda3\\lib\\site-packages (from llama-index-core==0.10.55->llama-index) (2.32.2)\n",
      "Requirement already satisfied: tenacity!=8.4.0,<9.0.0,>=8.2.0 in c:\\users\\succe\\anaconda3\\lib\\site-packages (from llama-index-core==0.10.55->llama-index) (8.2.2)\n",
      "Requirement already satisfied: tiktoken>=0.3.3 in c:\\users\\succe\\anaconda3\\lib\\site-packages (from llama-index-core==0.10.55->llama-index) (0.7.0)\n",
      "Requirement already satisfied: tqdm<5.0.0,>=4.66.1 in c:\\users\\succe\\anaconda3\\lib\\site-packages (from llama-index-core==0.10.55->llama-index) (4.66.4)\n",
      "Requirement already satisfied: typing-extensions>=4.5.0 in c:\\users\\succe\\anaconda3\\lib\\site-packages (from llama-index-core==0.10.55->llama-index) (4.11.0)\n",
      "Requirement already satisfied: typing-inspect>=0.8.0 in c:\\users\\succe\\anaconda3\\lib\\site-packages (from llama-index-core==0.10.55->llama-index) (0.9.0)\n",
      "Requirement already satisfied: wrapt in c:\\users\\succe\\anaconda3\\lib\\site-packages (from llama-index-core==0.10.55->llama-index) (1.14.1)\n",
      "Requirement already satisfied: llama-cloud>=0.0.9 in c:\\users\\succe\\anaconda3\\lib\\site-packages (from llama-index-indices-managed-llama-cloud>=0.2.0->llama-index) (0.0.9)\n",
      "Requirement already satisfied: beautifulsoup4<5.0.0,>=4.12.3 in c:\\users\\succe\\anaconda3\\lib\\site-packages (from llama-index-readers-file<0.2.0,>=0.1.4->llama-index) (4.12.3)\n",
      "Requirement already satisfied: pypdf<5.0.0,>=4.0.1 in c:\\users\\succe\\anaconda3\\lib\\site-packages (from llama-index-readers-file<0.2.0,>=0.1.4->llama-index) (4.3.0)\n",
      "Requirement already satisfied: striprtf<0.0.27,>=0.0.26 in c:\\users\\succe\\anaconda3\\lib\\site-packages (from llama-index-readers-file<0.2.0,>=0.1.4->llama-index) (0.0.26)\n",
      "Requirement already satisfied: llama-parse>=0.4.0 in c:\\users\\succe\\anaconda3\\lib\\site-packages (from llama-index-readers-llama-parse>=0.1.2->llama-index) (0.4.8)\n",
      "Requirement already satisfied: aiosignal>=1.1.2 in c:\\users\\succe\\anaconda3\\lib\\site-packages (from aiohttp<4.0.0,>=3.8.6->llama-index-core==0.10.55->llama-index) (1.2.0)\n",
      "Requirement already satisfied: attrs>=17.3.0 in c:\\users\\succe\\anaconda3\\lib\\site-packages (from aiohttp<4.0.0,>=3.8.6->llama-index-core==0.10.55->llama-index) (23.1.0)\n",
      "Requirement already satisfied: frozenlist>=1.1.1 in c:\\users\\succe\\anaconda3\\lib\\site-packages (from aiohttp<4.0.0,>=3.8.6->llama-index-core==0.10.55->llama-index) (1.4.0)\n",
      "Requirement already satisfied: multidict<7.0,>=4.5 in c:\\users\\succe\\anaconda3\\lib\\site-packages (from aiohttp<4.0.0,>=3.8.6->llama-index-core==0.10.55->llama-index) (6.0.4)\n",
      "Requirement already satisfied: yarl<2.0,>=1.0 in c:\\users\\succe\\anaconda3\\lib\\site-packages (from aiohttp<4.0.0,>=3.8.6->llama-index-core==0.10.55->llama-index) (1.9.3)\n",
      "Requirement already satisfied: soupsieve>1.2 in c:\\users\\succe\\anaconda3\\lib\\site-packages (from beautifulsoup4<5.0.0,>=4.12.3->llama-index-readers-file<0.2.0,>=0.1.4->llama-index) (2.5)\n",
      "Requirement already satisfied: pydantic>=1.10 in c:\\users\\succe\\anaconda3\\lib\\site-packages (from llama-cloud>=0.0.9->llama-index-indices-managed-llama-cloud>=0.2.0->llama-index) (2.5.3)\n",
      "Requirement already satisfied: anyio in c:\\users\\succe\\anaconda3\\lib\\site-packages (from httpx->llama-index-core==0.10.55->llama-index) (4.2.0)\n",
      "Requirement already satisfied: certifi in c:\\users\\succe\\anaconda3\\lib\\site-packages (from httpx->llama-index-core==0.10.55->llama-index) (2024.7.4)\n",
      "Requirement already satisfied: httpcore==1.* in c:\\users\\succe\\anaconda3\\lib\\site-packages (from httpx->llama-index-core==0.10.55->llama-index) (1.0.2)\n",
      "Requirement already satisfied: idna in c:\\users\\succe\\anaconda3\\lib\\site-packages (from httpx->llama-index-core==0.10.55->llama-index) (3.7)\n",
      "Requirement already satisfied: sniffio in c:\\users\\succe\\anaconda3\\lib\\site-packages (from httpx->llama-index-core==0.10.55->llama-index) (1.3.0)\n",
      "Requirement already satisfied: h11<0.15,>=0.13 in c:\\users\\succe\\anaconda3\\lib\\site-packages (from httpcore==1.*->httpx->llama-index-core==0.10.55->llama-index) (0.14.0)\n",
      "Requirement already satisfied: click in c:\\users\\succe\\anaconda3\\lib\\site-packages (from nltk<4.0.0,>=3.8.1->llama-index-core==0.10.55->llama-index) (8.1.7)\n",
      "Requirement already satisfied: joblib in c:\\users\\succe\\anaconda3\\lib\\site-packages (from nltk<4.0.0,>=3.8.1->llama-index-core==0.10.55->llama-index) (1.4.2)\n",
      "Requirement already satisfied: regex>=2021.8.3 in c:\\users\\succe\\anaconda3\\lib\\site-packages (from nltk<4.0.0,>=3.8.1->llama-index-core==0.10.55->llama-index) (2023.10.3)\n",
      "Requirement already satisfied: distro<2,>=1.7.0 in c:\\users\\succe\\anaconda3\\lib\\site-packages (from openai>=1.1.0->llama-index-core==0.10.55->llama-index) (1.9.0)\n",
      "Requirement already satisfied: charset-normalizer<4,>=2 in c:\\users\\succe\\anaconda3\\lib\\site-packages (from requests>=2.31.0->llama-index-core==0.10.55->llama-index) (2.0.4)\n",
      "Requirement already satisfied: urllib3<3,>=1.21.1 in c:\\users\\succe\\anaconda3\\lib\\site-packages (from requests>=2.31.0->llama-index-core==0.10.55->llama-index) (2.2.2)\n",
      "Requirement already satisfied: greenlet!=0.4.17 in c:\\users\\succe\\anaconda3\\lib\\site-packages (from SQLAlchemy>=1.4.49->SQLAlchemy[asyncio]>=1.4.49->llama-index-core==0.10.55->llama-index) (3.0.1)\n",
      "Requirement already satisfied: colorama in c:\\users\\succe\\anaconda3\\lib\\site-packages (from tqdm<5.0.0,>=4.66.1->llama-index-core==0.10.55->llama-index) (0.4.6)\n",
      "Requirement already satisfied: mypy-extensions>=0.3.0 in c:\\users\\succe\\anaconda3\\lib\\site-packages (from typing-inspect>=0.8.0->llama-index-core==0.10.55->llama-index) (1.0.0)\n",
      "Requirement already satisfied: marshmallow<4.0.0,>=3.18.0 in c:\\users\\succe\\anaconda3\\lib\\site-packages (from dataclasses-json->llama-index-core==0.10.55->llama-index) (3.21.3)\n",
      "Requirement already satisfied: python-dateutil>=2.8.2 in c:\\users\\succe\\anaconda3\\lib\\site-packages (from pandas->llama-index-core==0.10.55->llama-index) (2.9.0.post0)\n",
      "Requirement already satisfied: pytz>=2020.1 in c:\\users\\succe\\anaconda3\\lib\\site-packages (from pandas->llama-index-core==0.10.55->llama-index) (2024.1)\n",
      "Requirement already satisfied: tzdata>=2022.7 in c:\\users\\succe\\anaconda3\\lib\\site-packages (from pandas->llama-index-core==0.10.55->llama-index) (2023.3)\n",
      "Requirement already satisfied: packaging>=17.0 in c:\\users\\succe\\anaconda3\\lib\\site-packages (from marshmallow<4.0.0,>=3.18.0->dataclasses-json->llama-index-core==0.10.55->llama-index) (23.2)\n",
      "Requirement already satisfied: annotated-types>=0.4.0 in c:\\users\\succe\\anaconda3\\lib\\site-packages (from pydantic>=1.10->llama-cloud>=0.0.9->llama-index-indices-managed-llama-cloud>=0.2.0->llama-index) (0.6.0)\n",
      "Requirement already satisfied: pydantic-core==2.14.6 in c:\\users\\succe\\anaconda3\\lib\\site-packages (from pydantic>=1.10->llama-cloud>=0.0.9->llama-index-indices-managed-llama-cloud>=0.2.0->llama-index) (2.14.6)\n",
      "Requirement already satisfied: six>=1.5 in c:\\users\\succe\\anaconda3\\lib\\site-packages (from python-dateutil>=2.8.2->pandas->llama-index-core==0.10.55->llama-index) (1.16.0)\n",
      "Note: you may need to restart the kernel to use updated packages.\n"
     ]
    }
   ],
   "source": [
    "pip install llama-index"
   ]
  },
  {
   "cell_type": "code",
   "execution_count": 36,
   "id": "244aeef6-d0a2-44b1-b7e3-e0cdd465f91e",
   "metadata": {},
   "outputs": [
    {
     "name": "stdout",
     "output_type": "stream",
     "text": [
      "Requirement already satisfied: llama_index in c:\\users\\succe\\anaconda3\\lib\\site-packages (0.10.55)\n",
      "Requirement already satisfied: typing-extensions in c:\\users\\succe\\anaconda3\\lib\\site-packages (4.11.0)\n",
      "Collecting typing-extensions\n",
      "  Using cached typing_extensions-4.12.2-py3-none-any.whl.metadata (3.0 kB)\n",
      "Requirement already satisfied: llama-index-agent-openai<0.3.0,>=0.1.4 in c:\\users\\succe\\anaconda3\\lib\\site-packages (from llama_index) (0.2.8)\n",
      "Requirement already satisfied: llama-index-cli<0.2.0,>=0.1.2 in c:\\users\\succe\\anaconda3\\lib\\site-packages (from llama_index) (0.1.12)\n",
      "Requirement already satisfied: llama-index-core==0.10.55 in c:\\users\\succe\\anaconda3\\lib\\site-packages (from llama_index) (0.10.55)\n",
      "Requirement already satisfied: llama-index-embeddings-openai<0.2.0,>=0.1.5 in c:\\users\\succe\\anaconda3\\lib\\site-packages (from llama_index) (0.1.10)\n",
      "Requirement already satisfied: llama-index-indices-managed-llama-cloud>=0.2.0 in c:\\users\\succe\\anaconda3\\lib\\site-packages (from llama_index) (0.2.5)\n",
      "Requirement already satisfied: llama-index-legacy<0.10.0,>=0.9.48 in c:\\users\\succe\\anaconda3\\lib\\site-packages (from llama_index) (0.9.48)\n",
      "Requirement already satisfied: llama-index-llms-openai<0.2.0,>=0.1.13 in c:\\users\\succe\\anaconda3\\lib\\site-packages (from llama_index) (0.1.25)\n",
      "Requirement already satisfied: llama-index-multi-modal-llms-openai<0.2.0,>=0.1.3 in c:\\users\\succe\\anaconda3\\lib\\site-packages (from llama_index) (0.1.7)\n",
      "Requirement already satisfied: llama-index-program-openai<0.2.0,>=0.1.3 in c:\\users\\succe\\anaconda3\\lib\\site-packages (from llama_index) (0.1.6)\n",
      "Requirement already satisfied: llama-index-question-gen-openai<0.2.0,>=0.1.2 in c:\\users\\succe\\anaconda3\\lib\\site-packages (from llama_index) (0.1.3)\n",
      "Requirement already satisfied: llama-index-readers-file<0.2.0,>=0.1.4 in c:\\users\\succe\\anaconda3\\lib\\site-packages (from llama_index) (0.1.30)\n",
      "Requirement already satisfied: llama-index-readers-llama-parse>=0.1.2 in c:\\users\\succe\\anaconda3\\lib\\site-packages (from llama_index) (0.1.6)\n",
      "Requirement already satisfied: PyYAML>=6.0.1 in c:\\users\\succe\\anaconda3\\lib\\site-packages (from llama-index-core==0.10.55->llama_index) (6.0.1)\n",
      "Requirement already satisfied: SQLAlchemy>=1.4.49 in c:\\users\\succe\\anaconda3\\lib\\site-packages (from SQLAlchemy[asyncio]>=1.4.49->llama-index-core==0.10.55->llama_index) (2.0.30)\n",
      "Requirement already satisfied: aiohttp<4.0.0,>=3.8.6 in c:\\users\\succe\\anaconda3\\lib\\site-packages (from llama-index-core==0.10.55->llama_index) (3.9.5)\n",
      "Requirement already satisfied: dataclasses-json in c:\\users\\succe\\anaconda3\\lib\\site-packages (from llama-index-core==0.10.55->llama_index) (0.6.7)\n",
      "Requirement already satisfied: deprecated>=1.2.9.3 in c:\\users\\succe\\anaconda3\\lib\\site-packages (from llama-index-core==0.10.55->llama_index) (1.2.14)\n",
      "Requirement already satisfied: dirtyjson<2.0.0,>=1.0.8 in c:\\users\\succe\\anaconda3\\lib\\site-packages (from llama-index-core==0.10.55->llama_index) (1.0.8)\n",
      "Requirement already satisfied: fsspec>=2023.5.0 in c:\\users\\succe\\anaconda3\\lib\\site-packages (from llama-index-core==0.10.55->llama_index) (2024.3.1)\n",
      "Requirement already satisfied: httpx in c:\\users\\succe\\anaconda3\\lib\\site-packages (from llama-index-core==0.10.55->llama_index) (0.26.0)\n",
      "Requirement already satisfied: nest-asyncio<2.0.0,>=1.5.8 in c:\\users\\succe\\anaconda3\\lib\\site-packages (from llama-index-core==0.10.55->llama_index) (1.6.0)\n",
      "Requirement already satisfied: networkx>=3.0 in c:\\users\\succe\\anaconda3\\lib\\site-packages (from llama-index-core==0.10.55->llama_index) (3.2.1)\n",
      "Requirement already satisfied: nltk<4.0.0,>=3.8.1 in c:\\users\\succe\\anaconda3\\lib\\site-packages (from llama-index-core==0.10.55->llama_index) (3.8.1)\n",
      "Requirement already satisfied: numpy<2.0.0 in c:\\users\\succe\\anaconda3\\lib\\site-packages (from llama-index-core==0.10.55->llama_index) (1.26.4)\n",
      "Requirement already satisfied: openai>=1.1.0 in c:\\users\\succe\\anaconda3\\lib\\site-packages (from llama-index-core==0.10.55->llama_index) (1.35.14)\n",
      "Requirement already satisfied: pandas in c:\\users\\succe\\anaconda3\\lib\\site-packages (from llama-index-core==0.10.55->llama_index) (2.2.2)\n",
      "Requirement already satisfied: pillow>=9.0.0 in c:\\users\\succe\\anaconda3\\lib\\site-packages (from llama-index-core==0.10.55->llama_index) (10.3.0)\n",
      "Requirement already satisfied: requests>=2.31.0 in c:\\users\\succe\\anaconda3\\lib\\site-packages (from llama-index-core==0.10.55->llama_index) (2.32.2)\n",
      "Requirement already satisfied: tenacity!=8.4.0,<9.0.0,>=8.2.0 in c:\\users\\succe\\anaconda3\\lib\\site-packages (from llama-index-core==0.10.55->llama_index) (8.2.2)\n",
      "Requirement already satisfied: tiktoken>=0.3.3 in c:\\users\\succe\\anaconda3\\lib\\site-packages (from llama-index-core==0.10.55->llama_index) (0.7.0)\n",
      "Requirement already satisfied: tqdm<5.0.0,>=4.66.1 in c:\\users\\succe\\anaconda3\\lib\\site-packages (from llama-index-core==0.10.55->llama_index) (4.66.4)\n",
      "Requirement already satisfied: typing-inspect>=0.8.0 in c:\\users\\succe\\anaconda3\\lib\\site-packages (from llama-index-core==0.10.55->llama_index) (0.9.0)\n",
      "Requirement already satisfied: wrapt in c:\\users\\succe\\anaconda3\\lib\\site-packages (from llama-index-core==0.10.55->llama_index) (1.14.1)\n",
      "Requirement already satisfied: llama-cloud>=0.0.9 in c:\\users\\succe\\anaconda3\\lib\\site-packages (from llama-index-indices-managed-llama-cloud>=0.2.0->llama_index) (0.0.9)\n",
      "Requirement already satisfied: beautifulsoup4<5.0.0,>=4.12.3 in c:\\users\\succe\\anaconda3\\lib\\site-packages (from llama-index-readers-file<0.2.0,>=0.1.4->llama_index) (4.12.3)\n",
      "Requirement already satisfied: pypdf<5.0.0,>=4.0.1 in c:\\users\\succe\\anaconda3\\lib\\site-packages (from llama-index-readers-file<0.2.0,>=0.1.4->llama_index) (4.3.0)\n",
      "Requirement already satisfied: striprtf<0.0.27,>=0.0.26 in c:\\users\\succe\\anaconda3\\lib\\site-packages (from llama-index-readers-file<0.2.0,>=0.1.4->llama_index) (0.0.26)\n",
      "Requirement already satisfied: llama-parse>=0.4.0 in c:\\users\\succe\\anaconda3\\lib\\site-packages (from llama-index-readers-llama-parse>=0.1.2->llama_index) (0.4.8)\n",
      "Requirement already satisfied: aiosignal>=1.1.2 in c:\\users\\succe\\anaconda3\\lib\\site-packages (from aiohttp<4.0.0,>=3.8.6->llama-index-core==0.10.55->llama_index) (1.2.0)\n",
      "Requirement already satisfied: attrs>=17.3.0 in c:\\users\\succe\\anaconda3\\lib\\site-packages (from aiohttp<4.0.0,>=3.8.6->llama-index-core==0.10.55->llama_index) (23.1.0)\n",
      "Requirement already satisfied: frozenlist>=1.1.1 in c:\\users\\succe\\anaconda3\\lib\\site-packages (from aiohttp<4.0.0,>=3.8.6->llama-index-core==0.10.55->llama_index) (1.4.0)\n",
      "Requirement already satisfied: multidict<7.0,>=4.5 in c:\\users\\succe\\anaconda3\\lib\\site-packages (from aiohttp<4.0.0,>=3.8.6->llama-index-core==0.10.55->llama_index) (6.0.4)\n",
      "Requirement already satisfied: yarl<2.0,>=1.0 in c:\\users\\succe\\anaconda3\\lib\\site-packages (from aiohttp<4.0.0,>=3.8.6->llama-index-core==0.10.55->llama_index) (1.9.3)\n",
      "Requirement already satisfied: soupsieve>1.2 in c:\\users\\succe\\anaconda3\\lib\\site-packages (from beautifulsoup4<5.0.0,>=4.12.3->llama-index-readers-file<0.2.0,>=0.1.4->llama_index) (2.5)\n",
      "Requirement already satisfied: pydantic>=1.10 in c:\\users\\succe\\anaconda3\\lib\\site-packages (from llama-cloud>=0.0.9->llama-index-indices-managed-llama-cloud>=0.2.0->llama_index) (2.5.3)\n",
      "Requirement already satisfied: anyio in c:\\users\\succe\\anaconda3\\lib\\site-packages (from httpx->llama-index-core==0.10.55->llama_index) (4.2.0)\n",
      "Requirement already satisfied: certifi in c:\\users\\succe\\anaconda3\\lib\\site-packages (from httpx->llama-index-core==0.10.55->llama_index) (2024.7.4)\n",
      "Requirement already satisfied: httpcore==1.* in c:\\users\\succe\\anaconda3\\lib\\site-packages (from httpx->llama-index-core==0.10.55->llama_index) (1.0.2)\n",
      "Requirement already satisfied: idna in c:\\users\\succe\\anaconda3\\lib\\site-packages (from httpx->llama-index-core==0.10.55->llama_index) (3.7)\n",
      "Requirement already satisfied: sniffio in c:\\users\\succe\\anaconda3\\lib\\site-packages (from httpx->llama-index-core==0.10.55->llama_index) (1.3.0)\n",
      "Requirement already satisfied: h11<0.15,>=0.13 in c:\\users\\succe\\anaconda3\\lib\\site-packages (from httpcore==1.*->httpx->llama-index-core==0.10.55->llama_index) (0.14.0)\n",
      "Requirement already satisfied: click in c:\\users\\succe\\anaconda3\\lib\\site-packages (from nltk<4.0.0,>=3.8.1->llama-index-core==0.10.55->llama_index) (8.1.7)\n",
      "Requirement already satisfied: joblib in c:\\users\\succe\\anaconda3\\lib\\site-packages (from nltk<4.0.0,>=3.8.1->llama-index-core==0.10.55->llama_index) (1.4.2)\n",
      "Requirement already satisfied: regex>=2021.8.3 in c:\\users\\succe\\anaconda3\\lib\\site-packages (from nltk<4.0.0,>=3.8.1->llama-index-core==0.10.55->llama_index) (2023.10.3)\n",
      "Requirement already satisfied: distro<2,>=1.7.0 in c:\\users\\succe\\anaconda3\\lib\\site-packages (from openai>=1.1.0->llama-index-core==0.10.55->llama_index) (1.9.0)\n",
      "Requirement already satisfied: charset-normalizer<4,>=2 in c:\\users\\succe\\anaconda3\\lib\\site-packages (from requests>=2.31.0->llama-index-core==0.10.55->llama_index) (2.0.4)\n",
      "Requirement already satisfied: urllib3<3,>=1.21.1 in c:\\users\\succe\\anaconda3\\lib\\site-packages (from requests>=2.31.0->llama-index-core==0.10.55->llama_index) (2.2.2)\n",
      "Requirement already satisfied: greenlet!=0.4.17 in c:\\users\\succe\\anaconda3\\lib\\site-packages (from SQLAlchemy>=1.4.49->SQLAlchemy[asyncio]>=1.4.49->llama-index-core==0.10.55->llama_index) (3.0.1)\n",
      "Requirement already satisfied: colorama in c:\\users\\succe\\anaconda3\\lib\\site-packages (from tqdm<5.0.0,>=4.66.1->llama-index-core==0.10.55->llama_index) (0.4.6)\n",
      "Requirement already satisfied: mypy-extensions>=0.3.0 in c:\\users\\succe\\anaconda3\\lib\\site-packages (from typing-inspect>=0.8.0->llama-index-core==0.10.55->llama_index) (1.0.0)\n",
      "Requirement already satisfied: marshmallow<4.0.0,>=3.18.0 in c:\\users\\succe\\anaconda3\\lib\\site-packages (from dataclasses-json->llama-index-core==0.10.55->llama_index) (3.21.3)\n",
      "Requirement already satisfied: python-dateutil>=2.8.2 in c:\\users\\succe\\anaconda3\\lib\\site-packages (from pandas->llama-index-core==0.10.55->llama_index) (2.9.0.post0)\n",
      "Requirement already satisfied: pytz>=2020.1 in c:\\users\\succe\\anaconda3\\lib\\site-packages (from pandas->llama-index-core==0.10.55->llama_index) (2024.1)\n",
      "Requirement already satisfied: tzdata>=2022.7 in c:\\users\\succe\\anaconda3\\lib\\site-packages (from pandas->llama-index-core==0.10.55->llama_index) (2023.3)\n",
      "Requirement already satisfied: packaging>=17.0 in c:\\users\\succe\\anaconda3\\lib\\site-packages (from marshmallow<4.0.0,>=3.18.0->dataclasses-json->llama-index-core==0.10.55->llama_index) (23.2)\n",
      "Requirement already satisfied: annotated-types>=0.4.0 in c:\\users\\succe\\anaconda3\\lib\\site-packages (from pydantic>=1.10->llama-cloud>=0.0.9->llama-index-indices-managed-llama-cloud>=0.2.0->llama_index) (0.6.0)\n",
      "Requirement already satisfied: pydantic-core==2.14.6 in c:\\users\\succe\\anaconda3\\lib\\site-packages (from pydantic>=1.10->llama-cloud>=0.0.9->llama-index-indices-managed-llama-cloud>=0.2.0->llama_index) (2.14.6)\n",
      "Requirement already satisfied: six>=1.5 in c:\\users\\succe\\anaconda3\\lib\\site-packages (from python-dateutil>=2.8.2->pandas->llama-index-core==0.10.55->llama_index) (1.16.0)\n",
      "Using cached typing_extensions-4.12.2-py3-none-any.whl (37 kB)\n",
      "Installing collected packages: typing-extensions\n",
      "  Attempting uninstall: typing-extensions\n",
      "    Found existing installation: typing_extensions 4.11.0\n",
      "    Uninstalling typing_extensions-4.11.0:\n",
      "      Successfully uninstalled typing_extensions-4.11.0\n",
      "Successfully installed typing-extensions-4.12.2\n"
     ]
    }
   ],
   "source": [
    "!pip install --upgrade llama_index typing-extensions\n"
   ]
  },
  {
   "cell_type": "code",
   "execution_count": 40,
   "id": "8f6c05d4-47a4-4bb3-b7cf-e79dd7e715ae",
   "metadata": {},
   "outputs": [
    {
     "name": "stdout",
     "output_type": "stream",
     "text": [
      "TypeError: ForwardRef._evaluate() missing 1 required keyword-only argument: 'recursive_guard'\n"
     ]
    }
   ],
   "source": [
    "try:\n",
    "    from llama_index.core import VectorStoreIndex, SimpleDirectoryReader\n",
    "    print(\"Imports successful\")\n",
    "except ImportError as e:\n",
    "    print(f\"ImportError: {e}\")\n",
    "except TypeError as e:\n",
    "    print(f\"TypeError: {e}\")\n"
   ]
  },
  {
   "cell_type": "code",
   "execution_count": null,
   "id": "0d288fc5-07c5-475b-ad53-04b5e287295b",
   "metadata": {},
   "outputs": [],
   "source": []
  },
  {
   "cell_type": "code",
   "execution_count": null,
   "id": "a84cef67-e78d-4af5-8ff6-3feed77f5b97",
   "metadata": {},
   "outputs": [],
   "source": []
  }
 ],
 "metadata": {
  "kernelspec": {
   "display_name": "Python 3 (ipykernel)",
   "language": "python",
   "name": "python3"
  },
  "language_info": {
   "codemirror_mode": {
    "name": "ipython",
    "version": 3
   },
   "file_extension": ".py",
   "mimetype": "text/x-python",
   "name": "python",
   "nbconvert_exporter": "python",
   "pygments_lexer": "ipython3",
   "version": "3.12.4"
  }
 },
 "nbformat": 4,
 "nbformat_minor": 5
}
