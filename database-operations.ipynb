{
 "cells": [
  {
   "cell_type": "code",
   "execution_count": 1,
   "id": "20be75db-d89c-44ce-a0c7-2b9d6a8d7499",
   "metadata": {},
   "outputs": [
    {
     "name": "stdout",
     "output_type": "stream",
     "text": [
      "Collecting pymongo\n",
      "  Downloading pymongo-4.8.0-cp312-cp312-win_amd64.whl.metadata (22 kB)\n",
      "Collecting dnspython<3.0.0,>=1.16.0 (from pymongo)\n",
      "  Downloading dnspython-2.6.1-py3-none-any.whl.metadata (5.8 kB)\n",
      "Downloading pymongo-4.8.0-cp312-cp312-win_amd64.whl (680 kB)\n",
      "   ---------------------------------------- 0.0/680.4 kB ? eta -:--:--\n",
      "   -- ------------------------------------ 41.0/680.4 kB 991.0 kB/s eta 0:00:01\n",
      "   ----- ---------------------------------- 92.2/680.4 kB 1.1 MB/s eta 0:00:01\n",
      "   ------------ --------------------------- 204.8/680.4 kB 1.6 MB/s eta 0:00:01\n",
      "   -------------- ------------------------- 245.8/680.4 kB 1.7 MB/s eta 0:00:01\n",
      "   ------------------- -------------------- 337.9/680.4 kB 1.5 MB/s eta 0:00:01\n",
      "   ------------------------ --------------- 419.8/680.4 kB 1.6 MB/s eta 0:00:01\n",
      "   ------------------------------- -------- 542.7/680.4 kB 1.6 MB/s eta 0:00:01\n",
      "   ------------------------------------ --- 614.4/680.4 kB 1.7 MB/s eta 0:00:01\n",
      "   ---------------------------------------  675.8/680.4 kB 1.7 MB/s eta 0:00:01\n",
      "   ---------------------------------------- 680.4/680.4 kB 1.6 MB/s eta 0:00:00\n",
      "Downloading dnspython-2.6.1-py3-none-any.whl (307 kB)\n",
      "   ---------------------------------------- 0.0/307.7 kB ? eta -:--:--\n",
      "   -------------------------- ------------- 204.8/307.7 kB 4.2 MB/s eta 0:00:01\n",
      "   ---------------------------------------  307.2/307.7 kB 3.2 MB/s eta 0:00:01\n",
      "   ---------------------------------------- 307.7/307.7 kB 2.7 MB/s eta 0:00:00\n",
      "Installing collected packages: dnspython, pymongo\n",
      "Successfully installed dnspython-2.6.1 pymongo-4.8.0\n"
     ]
    }
   ],
   "source": [
    "!pip install pymongo\n"
   ]
  },
  {
   "cell_type": "markdown",
   "id": "075890e3-68fe-47f6-89ba-2623e91b62d2",
   "metadata": {},
   "source": [
    "## MongoDB Operations\r\n",
    "\r\n",
    "In this section, we will demonstrate how to connect to a MongoDB database and perform basic CRUD operations. We will use the `pymongo` library for these operations.\r\n"
   ]
  },
  {
   "cell_type": "code",
   "execution_count": 7,
   "id": "581675b0-8e01-4dba-b2be-9be471b22f88",
   "metadata": {},
   "outputs": [
    {
     "name": "stdout",
     "output_type": "stream",
     "text": [
      "Requirement already satisfied: pymongo in c:\\users\\succe\\anaconda3\\lib\\site-packages (4.8.0)\n",
      "Collecting pinecone-client\n",
      "  Downloading pinecone_client-5.0.1-py3-none-any.whl.metadata (19 kB)\n",
      "Collecting weaviate-client\n",
      "  Downloading weaviate_client-4.7.1-py3-none-any.whl.metadata (3.3 kB)\n",
      "Requirement already satisfied: dnspython<3.0.0,>=1.16.0 in c:\\users\\succe\\anaconda3\\lib\\site-packages (from pymongo) (2.6.1)\n",
      "Requirement already satisfied: certifi>=2019.11.17 in c:\\users\\succe\\anaconda3\\lib\\site-packages (from pinecone-client) (2024.7.4)\n",
      "Collecting pinecone-plugin-inference<2.0.0,>=1.0.3 (from pinecone-client)\n",
      "  Downloading pinecone_plugin_inference-1.0.3-py3-none-any.whl.metadata (2.2 kB)\n",
      "Collecting pinecone-plugin-interface<0.0.8,>=0.0.7 (from pinecone-client)\n",
      "  Downloading pinecone_plugin_interface-0.0.7-py3-none-any.whl.metadata (1.2 kB)\n",
      "Requirement already satisfied: tqdm>=4.64.1 in c:\\users\\succe\\anaconda3\\lib\\site-packages (from pinecone-client) (4.66.4)\n",
      "Requirement already satisfied: typing-extensions>=3.7.4 in c:\\users\\succe\\anaconda3\\lib\\site-packages (from pinecone-client) (4.12.2)\n",
      "Requirement already satisfied: urllib3>=1.26.5 in c:\\users\\succe\\anaconda3\\lib\\site-packages (from pinecone-client) (2.2.2)\n",
      "Requirement already satisfied: requests<3.0.0,>=2.30.0 in c:\\users\\succe\\anaconda3\\lib\\site-packages (from weaviate-client) (2.32.2)\n",
      "Requirement already satisfied: httpx<=0.27.0,>=0.25.0 in c:\\users\\succe\\anaconda3\\lib\\site-packages (from weaviate-client) (0.26.0)\n",
      "Collecting validators==0.33.0 (from weaviate-client)\n",
      "  Downloading validators-0.33.0-py3-none-any.whl.metadata (3.8 kB)\n",
      "Collecting authlib<2.0.0,>=1.2.1 (from weaviate-client)\n",
      "  Downloading Authlib-1.3.1-py2.py3-none-any.whl.metadata (3.8 kB)\n",
      "Requirement already satisfied: pydantic<3.0.0,>=2.5.0 in c:\\users\\succe\\anaconda3\\lib\\site-packages (from weaviate-client) (2.5.3)\n",
      "Collecting grpcio<2.0.0,>=1.57.0 (from weaviate-client)\n",
      "  Downloading grpcio-1.65.4-cp312-cp312-win_amd64.whl.metadata (3.4 kB)\n",
      "Collecting grpcio-tools<2.0.0,>=1.57.0 (from weaviate-client)\n",
      "  Downloading grpcio_tools-1.65.4-cp312-cp312-win_amd64.whl.metadata (5.5 kB)\n",
      "Collecting grpcio-health-checking<2.0.0,>=1.57.0 (from weaviate-client)\n",
      "  Downloading grpcio_health_checking-1.65.4-py3-none-any.whl.metadata (1.1 kB)\n",
      "Requirement already satisfied: cryptography in c:\\users\\succe\\anaconda3\\lib\\site-packages (from authlib<2.0.0,>=1.2.1->weaviate-client) (42.0.5)\n",
      "Collecting protobuf<6.0dev,>=5.26.1 (from grpcio-health-checking<2.0.0,>=1.57.0->weaviate-client)\n",
      "  Downloading protobuf-5.27.3-cp310-abi3-win_amd64.whl.metadata (592 bytes)\n",
      "Requirement already satisfied: setuptools in c:\\users\\succe\\anaconda3\\lib\\site-packages (from grpcio-tools<2.0.0,>=1.57.0->weaviate-client) (69.5.1)\n",
      "Requirement already satisfied: anyio in c:\\users\\succe\\anaconda3\\lib\\site-packages (from httpx<=0.27.0,>=0.25.0->weaviate-client) (4.2.0)\n",
      "Requirement already satisfied: httpcore==1.* in c:\\users\\succe\\anaconda3\\lib\\site-packages (from httpx<=0.27.0,>=0.25.0->weaviate-client) (1.0.2)\n",
      "Requirement already satisfied: idna in c:\\users\\succe\\anaconda3\\lib\\site-packages (from httpx<=0.27.0,>=0.25.0->weaviate-client) (3.7)\n",
      "Requirement already satisfied: sniffio in c:\\users\\succe\\anaconda3\\lib\\site-packages (from httpx<=0.27.0,>=0.25.0->weaviate-client) (1.3.0)\n",
      "Requirement already satisfied: h11<0.15,>=0.13 in c:\\users\\succe\\anaconda3\\lib\\site-packages (from httpcore==1.*->httpx<=0.27.0,>=0.25.0->weaviate-client) (0.14.0)\n",
      "Requirement already satisfied: annotated-types>=0.4.0 in c:\\users\\succe\\anaconda3\\lib\\site-packages (from pydantic<3.0.0,>=2.5.0->weaviate-client) (0.6.0)\n",
      "Requirement already satisfied: pydantic-core==2.14.6 in c:\\users\\succe\\anaconda3\\lib\\site-packages (from pydantic<3.0.0,>=2.5.0->weaviate-client) (2.14.6)\n",
      "Requirement already satisfied: charset-normalizer<4,>=2 in c:\\users\\succe\\anaconda3\\lib\\site-packages (from requests<3.0.0,>=2.30.0->weaviate-client) (2.0.4)\n",
      "Requirement already satisfied: colorama in c:\\users\\succe\\anaconda3\\lib\\site-packages (from tqdm>=4.64.1->pinecone-client) (0.4.6)\n",
      "Requirement already satisfied: cffi>=1.12 in c:\\users\\succe\\anaconda3\\lib\\site-packages (from cryptography->authlib<2.0.0,>=1.2.1->weaviate-client) (1.16.0)\n",
      "Requirement already satisfied: pycparser in c:\\users\\succe\\anaconda3\\lib\\site-packages (from cffi>=1.12->cryptography->authlib<2.0.0,>=1.2.1->weaviate-client) (2.21)\n",
      "Downloading pinecone_client-5.0.1-py3-none-any.whl (244 kB)\n",
      "   ---------------------------------------- 0.0/244.8 kB ? eta -:--:--\n",
      "   ----- ---------------------------------- 30.7/244.8 kB ? eta -:--:--\n",
      "   ---------------- ----------------------- 102.4/244.8 kB 1.2 MB/s eta 0:00:01\n",
      "   ------------------ --------------------- 112.6/244.8 kB 1.1 MB/s eta 0:00:01\n",
      "   ------------------------------ --------- 184.3/244.8 kB 1.0 MB/s eta 0:00:01\n",
      "   ------------------------------ --------- 184.3/244.8 kB 1.0 MB/s eta 0:00:01\n",
      "   ------------------------------------ - 235.5/244.8 kB 901.1 kB/s eta 0:00:01\n",
      "   -------------------------------------- 244.8/244.8 kB 789.8 kB/s eta 0:00:00\n",
      "Downloading weaviate_client-4.7.1-py3-none-any.whl (368 kB)\n",
      "   ---------------------------------------- 0.0/368.3 kB ? eta -:--:--\n",
      "   ------ --------------------------------- 61.4/368.3 kB 1.7 MB/s eta 0:00:01\n",
      "   ------------- -------------------------- 122.9/368.3 kB 1.4 MB/s eta 0:00:01\n",
      "   ---------------- ----------------------- 153.6/368.3 kB 1.1 MB/s eta 0:00:01\n",
      "   ------------------------- -------------- 235.5/368.3 kB 1.3 MB/s eta 0:00:01\n",
      "   --------------------------- ------------ 256.0/368.3 kB 1.1 MB/s eta 0:00:01\n",
      "   ---------------------------------- ----- 317.4/368.3 kB 1.2 MB/s eta 0:00:01\n",
      "   -------------------------------------- - 358.4/368.3 kB 1.1 MB/s eta 0:00:01\n",
      "   -------------------------------------- - 358.4/368.3 kB 1.1 MB/s eta 0:00:01\n",
      "   -------------------------------------- 368.3/368.3 kB 954.8 kB/s eta 0:00:00\n",
      "Downloading validators-0.33.0-py3-none-any.whl (43 kB)\n",
      "   ---------------------------------------- 0.0/43.3 kB ? eta -:--:--\n",
      "   ---------------------------------------- 43.3/43.3 kB 1.1 MB/s eta 0:00:00\n",
      "Downloading Authlib-1.3.1-py2.py3-none-any.whl (223 kB)\n",
      "   ---------------------------------------- 0.0/223.8 kB ? eta -:--:--\n",
      "   -------------- ------------------------- 81.9/223.8 kB 4.5 MB/s eta 0:00:01\n",
      "   ------------------------- -------------- 143.4/223.8 kB 1.7 MB/s eta 0:00:01\n",
      "   ------------------------------- -------- 174.1/223.8 kB 2.1 MB/s eta 0:00:01\n",
      "   -------------------------------------- - 215.0/223.8 kB 1.3 MB/s eta 0:00:01\n",
      "   ---------------------------------------- 223.8/223.8 kB 1.1 MB/s eta 0:00:00\n",
      "Downloading grpcio-1.65.4-cp312-cp312-win_amd64.whl (4.1 MB)\n",
      "   ---------------------------------------- 0.0/4.1 MB ? eta -:--:--\n",
      "    --------------------------------------- 0.1/4.1 MB 2.0 MB/s eta 0:00:03\n",
      "   - -------------------------------------- 0.1/4.1 MB 1.4 MB/s eta 0:00:03\n",
      "   - -------------------------------------- 0.2/4.1 MB 1.6 MB/s eta 0:00:03\n",
      "   -- ------------------------------------- 0.3/4.1 MB 1.6 MB/s eta 0:00:03\n",
      "   --- ------------------------------------ 0.3/4.1 MB 1.7 MB/s eta 0:00:03\n",
      "   ---- ----------------------------------- 0.5/4.1 MB 1.6 MB/s eta 0:00:03\n",
      "   ---- ----------------------------------- 0.5/4.1 MB 1.6 MB/s eta 0:00:03\n",
      "   ----- ---------------------------------- 0.6/4.1 MB 1.5 MB/s eta 0:00:03\n",
      "   ----- ---------------------------------- 0.6/4.1 MB 1.5 MB/s eta 0:00:03\n",
      "   ------- -------------------------------- 0.7/4.1 MB 1.5 MB/s eta 0:00:03\n",
      "   ------- -------------------------------- 0.7/4.1 MB 1.6 MB/s eta 0:00:03\n",
      "   -------- ------------------------------- 0.9/4.1 MB 1.6 MB/s eta 0:00:03\n",
      "   -------- ------------------------------- 0.9/4.1 MB 1.6 MB/s eta 0:00:03\n",
      "   ---------- ----------------------------- 1.0/4.1 MB 1.6 MB/s eta 0:00:02\n",
      "   ---------- ----------------------------- 1.1/4.1 MB 1.6 MB/s eta 0:00:02\n",
      "   ----------- ---------------------------- 1.2/4.1 MB 1.7 MB/s eta 0:00:02\n",
      "   ----------- ---------------------------- 1.2/4.1 MB 1.7 MB/s eta 0:00:02\n",
      "   ------------- -------------------------- 1.4/4.1 MB 1.7 MB/s eta 0:00:02\n",
      "   ------------- -------------------------- 1.4/4.1 MB 1.7 MB/s eta 0:00:02\n",
      "   --------------- ------------------------ 1.6/4.1 MB 1.7 MB/s eta 0:00:02\n",
      "   --------------- ------------------------ 1.6/4.1 MB 1.7 MB/s eta 0:00:02\n",
      "   ----------------- ---------------------- 1.8/4.1 MB 1.7 MB/s eta 0:00:02\n",
      "   ----------------- ---------------------- 1.8/4.1 MB 1.7 MB/s eta 0:00:02\n",
      "   ------------------- -------------------- 2.0/4.1 MB 1.8 MB/s eta 0:00:02\n",
      "   ------------------- -------------------- 2.0/4.1 MB 1.7 MB/s eta 0:00:02\n",
      "   --------------------- ------------------ 2.2/4.1 MB 1.8 MB/s eta 0:00:02\n",
      "   --------------------- ------------------ 2.2/4.1 MB 1.8 MB/s eta 0:00:02\n",
      "   ----------------------- ---------------- 2.4/4.1 MB 1.9 MB/s eta 0:00:01\n",
      "   ----------------------- ---------------- 2.4/4.1 MB 1.8 MB/s eta 0:00:01\n",
      "   ------------------------- -------------- 2.6/4.1 MB 1.9 MB/s eta 0:00:01\n",
      "   ------------------------- -------------- 2.7/4.1 MB 1.9 MB/s eta 0:00:01\n",
      "   --------------------------- ------------ 2.9/4.1 MB 1.9 MB/s eta 0:00:01\n",
      "   ---------------------------- ----------- 3.0/4.1 MB 1.9 MB/s eta 0:00:01\n",
      "   ------------------------------ --------- 3.1/4.1 MB 2.0 MB/s eta 0:00:01\n",
      "   ------------------------------- -------- 3.2/4.1 MB 2.0 MB/s eta 0:00:01\n",
      "   -------------------------------- ------- 3.4/4.1 MB 2.1 MB/s eta 0:00:01\n",
      "   --------------------------------- ------ 3.5/4.1 MB 2.0 MB/s eta 0:00:01\n",
      "   ----------------------------------- ---- 3.7/4.1 MB 2.1 MB/s eta 0:00:01\n",
      "   ------------------------------------ --- 3.7/4.1 MB 2.1 MB/s eta 0:00:01\n",
      "   ------------------------------------- -- 3.9/4.1 MB 2.1 MB/s eta 0:00:01\n",
      "   ---------------------------------------  4.1/4.1 MB 2.1 MB/s eta 0:00:01\n",
      "   ---------------------------------------- 4.1/4.1 MB 2.1 MB/s eta 0:00:00\n",
      "Downloading grpcio_health_checking-1.65.4-py3-none-any.whl (18 kB)\n",
      "Downloading grpcio_tools-1.65.4-cp312-cp312-win_amd64.whl (1.1 MB)\n",
      "   ---------------------------------------- 0.0/1.1 MB ? eta -:--:--\n",
      "   - -------------------------------------- 0.1/1.1 MB ? eta -:--:--\n",
      "   ----------- ---------------------------- 0.3/1.1 MB 6.5 MB/s eta 0:00:01\n",
      "   -------------- ------------------------- 0.4/1.1 MB 4.1 MB/s eta 0:00:01\n",
      "   ------------------------ --------------- 0.7/1.1 MB 4.6 MB/s eta 0:00:01\n",
      "   ---------------------------- ----------- 0.8/1.1 MB 4.0 MB/s eta 0:00:01\n",
      "   ------------------------------------ --- 1.0/1.1 MB 4.5 MB/s eta 0:00:01\n",
      "   ---------------------------------------  1.1/1.1 MB 4.0 MB/s eta 0:00:01\n",
      "   ---------------------------------------- 1.1/1.1 MB 3.6 MB/s eta 0:00:00\n",
      "Downloading pinecone_plugin_inference-1.0.3-py3-none-any.whl (117 kB)\n",
      "   ---------------------------------------- 0.0/117.6 kB ? eta -:--:--\n",
      "   ---------------------------------------- 117.6/117.6 kB 3.5 MB/s eta 0:00:00\n",
      "Downloading pinecone_plugin_interface-0.0.7-py3-none-any.whl (6.2 kB)\n",
      "Downloading protobuf-5.27.3-cp310-abi3-win_amd64.whl (426 kB)\n",
      "   ---------------------------------------- 0.0/426.9 kB ? eta -:--:--\n",
      "   ---------------------------- ----------- 307.2/426.9 kB 9.6 MB/s eta 0:00:01\n",
      "   ---------------------------------- ----- 368.6/426.9 kB 4.6 MB/s eta 0:00:01\n",
      "   ---------------------------------------- 426.9/426.9 kB 4.4 MB/s eta 0:00:00\n",
      "Installing collected packages: validators, protobuf, pinecone-plugin-interface, grpcio, pinecone-plugin-inference, grpcio-tools, grpcio-health-checking, pinecone-client, authlib, weaviate-client\n",
      "  Attempting uninstall: protobuf\n",
      "    Found existing installation: protobuf 3.20.3\n",
      "    Uninstalling protobuf-3.20.3:\n",
      "      Successfully uninstalled protobuf-3.20.3\n",
      "Successfully installed authlib-1.3.1 grpcio-1.65.4 grpcio-health-checking-1.65.4 grpcio-tools-1.65.4 pinecone-client-5.0.1 pinecone-plugin-inference-1.0.3 pinecone-plugin-interface-0.0.7 protobuf-5.27.3 validators-0.33.0 weaviate-client-4.7.1\n",
      "Note: you may need to restart the kernel to use updated packages.\n"
     ]
    },
    {
     "name": "stderr",
     "output_type": "stream",
     "text": [
      "ERROR: pip's dependency resolver does not currently take into account all the packages that are installed. This behaviour is the source of the following dependency conflicts.\n",
      "streamlit 1.32.0 requires protobuf<5,>=3.20, but you have protobuf 5.27.3 which is incompatible.\n"
     ]
    }
   ],
   "source": [
    "pip install pymongo pinecone-client weaviate-client\n"
   ]
  },
  {
   "cell_type": "code",
   "execution_count": 1,
   "id": "79afe3f1-866f-422f-93c9-88d446fb3111",
   "metadata": {},
   "outputs": [
    {
     "name": "stdout",
     "output_type": "stream",
     "text": [
      "MongoDB connected successfully\n",
      "Inserted document ID: 66b329e561a05839a246b885\n",
      "Found document: {'_id': ObjectId('66b329e561a05839a246b885'), 'name': 'John Doe', 'age': 30, 'city': 'New York'}\n",
      "Matched 1 document(s) and modified 1 document(s)\n",
      "Deleted 1 document(s)\n"
     ]
    }
   ],
   "source": [
    "# MongoDB Section\n",
    "import pymongo\n",
    "from pymongo import MongoClient\n",
    "from pymongo.errors import ConnectionFailure\n",
    "\n",
    "# Connection Setup\n",
    "try:\n",
    "    client = MongoClient('mongodb://localhost:27017/')\n",
    "    print(\"MongoDB connected successfully\")\n",
    "except ConnectionFailure as e:\n",
    "    print(f\"Could not connect to MongoDB: {e}\")\n",
    "\n",
    "# Create or Access Database and Collection\n",
    "db = client['mydatabase']\n",
    "collection = db['mycollection']\n",
    "\n",
    "# Writing Data\n",
    "try:\n",
    "    document = {\"name\": \"John Doe\", \"age\": 30, \"city\": \"New York\"}\n",
    "    insert_result = collection.insert_one(document)\n",
    "    print(f\"Inserted document ID: {insert_result.inserted_id}\")\n",
    "except Exception as e:\n",
    "    print(f\"Error inserting document: {e}\")\n",
    "\n",
    "# Reading Data\n",
    "try:\n",
    "    result = collection.find_one({\"name\": \"John Doe\"})\n",
    "    print(f\"Found document: {result}\")\n",
    "except Exception as e:\n",
    "    print(f\"Error reading document: {e}\")\n",
    "\n",
    "# Updating Data\n",
    "try:\n",
    "    update_result = collection.update_one({\"name\": \"John Doe\"}, {\"$set\": {\"age\": 31}})\n",
    "    print(f\"Matched {update_result.matched_count} document(s) and modified {update_result.modified_count} document(s)\")\n",
    "except Exception as e:\n",
    "    print(f\"Error updating document: {e}\")\n",
    "\n",
    "# Deleting Data\n",
    "try:\n",
    "    delete_result = collection.delete_one({\"name\": \"John Doe\"})\n",
    "    print(f\"Deleted {delete_result.deleted_count} document(s)\")\n",
    "except Exception as e:\n",
    "    print(f\"Error deleting document: {e}\")\n"
   ]
  },
  {
   "cell_type": "markdown",
   "id": "7d31c1ea-1264-434f-9bdf-b9d25d2ae764",
   "metadata": {},
   "source": [
    "## Weaviate Operations\r\n",
    "\r\n",
    "In this section, we will demonstrate how to connect to a Weaviate vector database and perform basic CRUD operations. We will use the `weaviate-client` library.\r\n"
   ]
  },
  {
   "cell_type": "code",
   "execution_count": 57,
   "id": "52512d87-bcdb-466e-8163-c618cc11659f",
   "metadata": {},
   "outputs": [
    {
     "name": "stdout",
     "output_type": "stream",
     "text": [
      "Weaviate connection is successful.\n"
     ]
    }
   ],
   "source": [
    "from weaviate import Client\n",
    "\n",
    "# Set up the Weaviate client\n",
    "client = Client(\"http://localhost:8080\")\n",
    "\n",
    "# Verify the connection\n",
    "if client.is_ready():\n",
    "    print(\"Weaviate connection is successful.\")\n",
    "else:\n",
    "    print(\"Failed to connect to Weaviate.\")\n"
   ]
  },
  {
   "cell_type": "code",
   "execution_count": 59,
   "id": "79b706f3-9de7-4868-b1cf-de847bb4682f",
   "metadata": {},
   "outputs": [
    {
     "name": "stdout",
     "output_type": "stream",
     "text": [
      "Data inserted successfully.\n"
     ]
    }
   ],
   "source": [
    "# Define the data to be inserted\n",
    "data_object = {\n",
    "    \"name\": \"example\",\n",
    "    \"description\": \"This is an example object\"\n",
    "}\n",
    "\n",
    "# Insert the data\n",
    "client.data_object.create(data_object, class_name=\"YourClassName\")\n",
    "\n",
    "print(\"Data inserted successfully.\")\n"
   ]
  },
  {
   "cell_type": "code",
   "execution_count": 61,
   "id": "b53c9f7d-c7da-4973-a409-1388bd9893f3",
   "metadata": {},
   "outputs": [
    {
     "name": "stdout",
     "output_type": "stream",
     "text": [
      "{'description': 'This is an example object', 'name': 'example'}\n"
     ]
    }
   ],
   "source": [
    "# Query for the data\n",
    "results = client.query.get(\"YourClassName\", [\"name\", \"description\"]).do()\n",
    "\n",
    "# Print the results\n",
    "for result in results[\"data\"][\"Get\"][\"YourClassName\"]:\n",
    "    print(result)\n"
   ]
  },
  {
   "cell_type": "code",
   "execution_count": 71,
   "id": "a27e2552-1b83-4957-b825-d54afce40209",
   "metadata": {},
   "outputs": [
    {
     "name": "stdout",
     "output_type": "stream",
     "text": [
      "44fed33a-890c-4536-b91e-1e9759e18b0c\n",
      "Response is not in expected format. It's a string.\n"
     ]
    }
   ],
   "source": [
    "import weaviate\n",
    "\n",
    "# Initialize the Weaviate client\n",
    "client = weaviate.Client(\"http://localhost:8080\")\n",
    "\n",
    "# Create an object\n",
    "response = client.data_object.create(\n",
    "    {\n",
    "        \"name\": \"Alice\",\n",
    "        \"age\": 30\n",
    "    },\n",
    "    class_name=\"Person\"\n",
    ")\n",
    "\n",
    "# Print response to check its structure\n",
    "print(response)\n",
    "\n",
    "# Assuming response is JSON or dictionary\n",
    "try:\n",
    "    if isinstance(response, dict):\n",
    "        object_uuid = response.get(\"id\")  # Safely extract UUID\n",
    "        print(f\"Object UUID: {object_uuid}\")\n",
    "    else:\n",
    "        print(\"Response is not in expected format. It's a string.\")\n",
    "except Exception as e:\n",
    "    print(f\"An error occurred: {e}\")\n"
   ]
  },
  {
   "cell_type": "code",
   "execution_count": 81,
   "id": "19b4b29a-f8c8-4241-9582-3a589c599369",
   "metadata": {},
   "outputs": [],
   "source": [
    "def update_object(uuid, updated_data, class_name):\n",
    "    # Make sure the UUID is a string\n",
    "    uuid_str = str(uuid)\n",
    "    \n",
    "    # Call the update method with correct arguments\n",
    "    client.data_object.update(\n",
    "        uuid=uuid_str,  # UUID of the object to update\n",
    "        class_name=class_name,  # Class name of the object\n",
    "        properties=updated_data  # Updated properties\n",
    "    )\n",
    "    print(\"Data updated successfully.\")\n"
   ]
  },
  {
   "cell_type": "code",
   "execution_count": 85,
   "id": "17d96774-e572-42b1-8035-84db5cf4c6aa",
   "metadata": {},
   "outputs": [
    {
     "name": "stdout",
     "output_type": "stream",
     "text": [
      "Data deleted successfully.\n"
     ]
    }
   ],
   "source": [
    "# Delete object\n",
    "client.data_object.delete(object_uuid, class_name=\"Person\")\n",
    "print(\"Data deleted successfully.\")\n"
   ]
  },
  {
   "cell_type": "code",
   "execution_count": null,
   "id": "8df4b3b0-95d0-4a63-805a-3420f55de238",
   "metadata": {},
   "outputs": [],
   "source": []
  },
  {
   "cell_type": "markdown",
   "id": "2bb0d5b2-03e8-4e29-aba9-ccf391d4a03b",
   "metadata": {},
   "source": [
    "## Pinecone Operations\r\n",
    "\r\n",
    "In this section, we will demonstrate how to connect to a Pinecone vector database and perform basic CRUD operations. We will use the `pinecone-client` library.\r\n"
   ]
  },
  {
   "cell_type": "markdown",
   "id": "f55640ce-ff02-4376-81ec-b76517df5336",
   "metadata": {},
   "source": [
    "Pinecone (Vector Database)\n"
   ]
  },
  {
   "cell_type": "code",
   "execution_count": 93,
   "id": "fb6c6dd5-ced5-4e7c-9a0e-12ccd3fed71d",
   "metadata": {},
   "outputs": [
    {
     "name": "stdout",
     "output_type": "stream",
     "text": [
      "Requirement already satisfied: pinecone-client in c:\\users\\succe\\anaconda3\\lib\\site-packages (5.0.1)\n",
      "Requirement already satisfied: certifi>=2019.11.17 in c:\\users\\succe\\anaconda3\\lib\\site-packages (from pinecone-client) (2024.7.4)\n",
      "Requirement already satisfied: pinecone-plugin-inference<2.0.0,>=1.0.3 in c:\\users\\succe\\anaconda3\\lib\\site-packages (from pinecone-client) (1.0.3)\n",
      "Requirement already satisfied: pinecone-plugin-interface<0.0.8,>=0.0.7 in c:\\users\\succe\\anaconda3\\lib\\site-packages (from pinecone-client) (0.0.7)\n",
      "Requirement already satisfied: tqdm>=4.64.1 in c:\\users\\succe\\anaconda3\\lib\\site-packages (from pinecone-client) (4.66.4)\n",
      "Requirement already satisfied: typing-extensions>=3.7.4 in c:\\users\\succe\\anaconda3\\lib\\site-packages (from pinecone-client) (4.12.2)\n",
      "Requirement already satisfied: urllib3>=1.26.5 in c:\\users\\succe\\anaconda3\\lib\\site-packages (from pinecone-client) (2.2.2)\n",
      "Requirement already satisfied: colorama in c:\\users\\succe\\anaconda3\\lib\\site-packages (from tqdm>=4.64.1->pinecone-client) (0.4.6)\n"
     ]
    },
    {
     "name": "stderr",
     "output_type": "stream",
     "text": [
      "C:\\Users\\succe\\anaconda3\\Lib\\site-packages\\IPython\\utils\\_process_win32.py:124: ResourceWarning: unclosed file <_io.BufferedWriter name=3>\n",
      "  return process_handler(cmd, _system_body)\n",
      "ResourceWarning: Enable tracemalloc to get the object allocation traceback\n",
      "C:\\Users\\succe\\anaconda3\\Lib\\site-packages\\IPython\\utils\\_process_win32.py:124: ResourceWarning: unclosed file <_io.BufferedReader name=4>\n",
      "  return process_handler(cmd, _system_body)\n",
      "ResourceWarning: Enable tracemalloc to get the object allocation traceback\n",
      "C:\\Users\\succe\\anaconda3\\Lib\\site-packages\\IPython\\utils\\_process_win32.py:124: ResourceWarning: unclosed file <_io.BufferedReader name=5>\n",
      "  return process_handler(cmd, _system_body)\n",
      "ResourceWarning: Enable tracemalloc to get the object allocation traceback\n"
     ]
    }
   ],
   "source": [
    "!pip install pinecone-client"
   ]
  },
  {
   "cell_type": "code",
   "execution_count": 109,
   "id": "fa010397-ad77-4229-b636-01a6a285a111",
   "metadata": {},
   "outputs": [],
   "source": [
    "import os\n",
    "from pinecone import Pinecone, ServerlessSpec\n",
    "\n",
    "# Initialize the Pinecone client\n",
    "pc = Pinecone(\n",
    "    api_key=\"1921562e-ad05-4e61-a40c-ef702bff4783\"\n",
    ")\n",
    "\n",
    "# Define the index name\n",
    "index_name = \"my-index\"\n",
    "\n",
    "# Check if the index exists and create it if it doesn't\n",
    "if index_name not in pc.list_indexes().names():\n",
    "    pc.create_index(\n",
    "        name=index_name,\n",
    "        dimension=1536,\n",
    "        metric='cosine',\n",
    "        spec=ServerlessSpec(\n",
    "            cloud='aws',\n",
    "            region='us-east-1'\n",
    "        )\n",
    "    )\n"
   ]
  },
  {
   "cell_type": "code",
   "execution_count": 111,
   "id": "e8f5d743-186b-407a-8549-bac5dffd5c81",
   "metadata": {},
   "outputs": [
    {
     "name": "stdout",
     "output_type": "stream",
     "text": [
      "{'dimension': 1536,\n",
      " 'index_fullness': 0.0,\n",
      " 'namespaces': {'': {'vector_count': 1}},\n",
      " 'total_vector_count': 1}\n"
     ]
    }
   ],
   "source": [
    "# Connect to the index\n",
    "index = pc.Index(index_name)\n",
    "\n",
    "# Check if the index is connected\n",
    "print(index.describe_index_stats())\n"
   ]
  },
  {
   "cell_type": "code",
   "execution_count": 113,
   "id": "62f3ab27-d775-4753-90e8-dfbe7d39753c",
   "metadata": {},
   "outputs": [
    {
     "name": "stdout",
     "output_type": "stream",
     "text": [
      "{'dimension': 1536,\n",
      " 'index_fullness': 0.0,\n",
      " 'namespaces': {'': {'vector_count': 1}},\n",
      " 'total_vector_count': 1}\n"
     ]
    }
   ],
   "source": [
    "# Insert a vector into the index\n",
    "vector_id = \"vec1\"\n",
    "vector = [0.1] * 1536\n",
    "metadata = {\"key\": \"value\"}\n",
    "\n",
    "index.upsert(vectors=[(vector_id, vector, metadata)])\n",
    "\n",
    "# Check if the vector was inserted\n",
    "print(index.describe_index_stats())\n"
   ]
  },
  {
   "cell_type": "code",
   "execution_count": 115,
   "id": "529cd560-50a7-4643-aa22-053a9aa9b14f",
   "metadata": {},
   "outputs": [
    {
     "ename": "PineconeApiException",
     "evalue": "(400)\nReason: Bad Request\nHTTP response headers: HTTPHeaderDict({'Date': 'Wed, 07 Aug 2024 10:40:23 GMT', 'Content-Type': 'text/plain', 'Content-Length': '73', 'Connection': 'keep-alive', 'server': 'envoy'})\nHTTP response body: queries[1535]: invalid value 0.1 for type type.googleapis.com/QueryVector\n",
     "output_type": "error",
     "traceback": [
      "\u001b[1;31m---------------------------------------------------------------------------\u001b[0m",
      "\u001b[1;31mPineconeApiException\u001b[0m                      Traceback (most recent call last)",
      "Cell \u001b[1;32mIn[115], line 4\u001b[0m\n\u001b[0;32m      1\u001b[0m \u001b[38;5;66;03m# Query the index\u001b[39;00m\n\u001b[0;32m      2\u001b[0m query_vector \u001b[38;5;241m=\u001b[39m [\u001b[38;5;241m0.1\u001b[39m] \u001b[38;5;241m*\u001b[39m \u001b[38;5;241m1536\u001b[39m  \u001b[38;5;66;03m# Make sure this is in float format\u001b[39;00m\n\u001b[1;32m----> 4\u001b[0m query_response \u001b[38;5;241m=\u001b[39m index\u001b[38;5;241m.\u001b[39mquery(queries\u001b[38;5;241m=\u001b[39m[query_vector], top_k\u001b[38;5;241m=\u001b[39m\u001b[38;5;241m2\u001b[39m)\n\u001b[0;32m      5\u001b[0m \u001b[38;5;28mprint\u001b[39m(\u001b[38;5;124m\"\u001b[39m\u001b[38;5;124mQuery Response:\u001b[39m\u001b[38;5;124m\"\u001b[39m, query_response)\n",
      "File \u001b[1;32m~\\anaconda3\\Lib\\site-packages\\pinecone\\utils\\error_handling.py:11\u001b[0m, in \u001b[0;36mvalidate_and_convert_errors.<locals>.inner_func\u001b[1;34m(*args, **kwargs)\u001b[0m\n\u001b[0;32m      8\u001b[0m \u001b[38;5;129m@wraps\u001b[39m(func)\n\u001b[0;32m      9\u001b[0m \u001b[38;5;28;01mdef\u001b[39;00m \u001b[38;5;21minner_func\u001b[39m(\u001b[38;5;241m*\u001b[39margs, \u001b[38;5;241m*\u001b[39m\u001b[38;5;241m*\u001b[39mkwargs):\n\u001b[0;32m     10\u001b[0m     \u001b[38;5;28;01mtry\u001b[39;00m:\n\u001b[1;32m---> 11\u001b[0m         \u001b[38;5;28;01mreturn\u001b[39;00m func(\u001b[38;5;241m*\u001b[39margs, \u001b[38;5;241m*\u001b[39m\u001b[38;5;241m*\u001b[39mkwargs)\n\u001b[0;32m     12\u001b[0m     \u001b[38;5;28;01mexcept\u001b[39;00m MaxRetryError \u001b[38;5;28;01mas\u001b[39;00m e:\n\u001b[0;32m     13\u001b[0m         \u001b[38;5;28;01mif\u001b[39;00m \u001b[38;5;28misinstance\u001b[39m(e\u001b[38;5;241m.\u001b[39mreason, ProtocolError):\n",
      "File \u001b[1;32m~\\anaconda3\\Lib\\site-packages\\pinecone\\data\\index.py:429\u001b[0m, in \u001b[0;36mIndex.query\u001b[1;34m(self, top_k, vector, id, namespace, filter, include_values, include_metadata, sparse_vector, *args, **kwargs)\u001b[0m\n\u001b[0;32m    415\u001b[0m sparse_vector \u001b[38;5;241m=\u001b[39m \u001b[38;5;28mself\u001b[39m\u001b[38;5;241m.\u001b[39m_parse_sparse_values_arg(sparse_vector)\n\u001b[0;32m    416\u001b[0m args_dict \u001b[38;5;241m=\u001b[39m \u001b[38;5;28mself\u001b[39m\u001b[38;5;241m.\u001b[39m_parse_non_empty_args(\n\u001b[0;32m    417\u001b[0m     [\n\u001b[0;32m    418\u001b[0m         (\u001b[38;5;124m\"\u001b[39m\u001b[38;5;124mvector\u001b[39m\u001b[38;5;124m\"\u001b[39m, vector),\n\u001b[1;32m   (...)\u001b[0m\n\u001b[0;32m    427\u001b[0m     ]\n\u001b[0;32m    428\u001b[0m )\n\u001b[1;32m--> 429\u001b[0m response \u001b[38;5;241m=\u001b[39m \u001b[38;5;28mself\u001b[39m\u001b[38;5;241m.\u001b[39m_vector_api\u001b[38;5;241m.\u001b[39mquery(\n\u001b[0;32m    430\u001b[0m     QueryRequest(\n\u001b[0;32m    431\u001b[0m         \u001b[38;5;241m*\u001b[39m\u001b[38;5;241m*\u001b[39margs_dict,\n\u001b[0;32m    432\u001b[0m         _check_type\u001b[38;5;241m=\u001b[39m_check_type,\n\u001b[0;32m    433\u001b[0m         \u001b[38;5;241m*\u001b[39m\u001b[38;5;241m*\u001b[39m{k: v \u001b[38;5;28;01mfor\u001b[39;00m k, v \u001b[38;5;129;01min\u001b[39;00m kwargs\u001b[38;5;241m.\u001b[39mitems() \u001b[38;5;28;01mif\u001b[39;00m k \u001b[38;5;129;01mnot\u001b[39;00m \u001b[38;5;129;01min\u001b[39;00m _OPENAPI_ENDPOINT_PARAMS},\n\u001b[0;32m    434\u001b[0m     ),\n\u001b[0;32m    435\u001b[0m     \u001b[38;5;241m*\u001b[39m\u001b[38;5;241m*\u001b[39m{k: v \u001b[38;5;28;01mfor\u001b[39;00m k, v \u001b[38;5;129;01min\u001b[39;00m kwargs\u001b[38;5;241m.\u001b[39mitems() \u001b[38;5;28;01mif\u001b[39;00m k \u001b[38;5;129;01min\u001b[39;00m _OPENAPI_ENDPOINT_PARAMS},\n\u001b[0;32m    436\u001b[0m )\n\u001b[0;32m    437\u001b[0m \u001b[38;5;28;01mreturn\u001b[39;00m parse_query_response(response)\n",
      "File \u001b[1;32m~\\anaconda3\\Lib\\site-packages\\pinecone\\core\\openapi\\shared\\api_client.py:761\u001b[0m, in \u001b[0;36mEndpoint.__call__\u001b[1;34m(self, *args, **kwargs)\u001b[0m\n\u001b[0;32m    750\u001b[0m \u001b[38;5;28;01mdef\u001b[39;00m \u001b[38;5;21m__call__\u001b[39m(\u001b[38;5;28mself\u001b[39m, \u001b[38;5;241m*\u001b[39margs, \u001b[38;5;241m*\u001b[39m\u001b[38;5;241m*\u001b[39mkwargs):\n\u001b[0;32m    751\u001b[0m \u001b[38;5;250m    \u001b[39m\u001b[38;5;124;03m\"\"\"This method is invoked when endpoints are called\u001b[39;00m\n\u001b[0;32m    752\u001b[0m \u001b[38;5;124;03m    Example:\u001b[39;00m\n\u001b[0;32m    753\u001b[0m \n\u001b[1;32m   (...)\u001b[0m\n\u001b[0;32m    759\u001b[0m \n\u001b[0;32m    760\u001b[0m \u001b[38;5;124;03m    \"\"\"\u001b[39;00m\n\u001b[1;32m--> 761\u001b[0m     \u001b[38;5;28;01mreturn\u001b[39;00m \u001b[38;5;28mself\u001b[39m\u001b[38;5;241m.\u001b[39mcallable(\u001b[38;5;28mself\u001b[39m, \u001b[38;5;241m*\u001b[39margs, \u001b[38;5;241m*\u001b[39m\u001b[38;5;241m*\u001b[39mkwargs)\n",
      "File \u001b[1;32m~\\anaconda3\\Lib\\site-packages\\pinecone\\core\\openapi\\data\\api\\data_plane_api.py:639\u001b[0m, in \u001b[0;36mDataPlaneApi.__init__.<locals>.__query\u001b[1;34m(self, query_request, **kwargs)\u001b[0m\n\u001b[0;32m    637\u001b[0m kwargs[\u001b[38;5;124m\"\u001b[39m\u001b[38;5;124m_host_index\u001b[39m\u001b[38;5;124m\"\u001b[39m] \u001b[38;5;241m=\u001b[39m kwargs\u001b[38;5;241m.\u001b[39mget(\u001b[38;5;124m\"\u001b[39m\u001b[38;5;124m_host_index\u001b[39m\u001b[38;5;124m\"\u001b[39m)\n\u001b[0;32m    638\u001b[0m kwargs[\u001b[38;5;124m\"\u001b[39m\u001b[38;5;124mquery_request\u001b[39m\u001b[38;5;124m\"\u001b[39m] \u001b[38;5;241m=\u001b[39m query_request\n\u001b[1;32m--> 639\u001b[0m \u001b[38;5;28;01mreturn\u001b[39;00m \u001b[38;5;28mself\u001b[39m\u001b[38;5;241m.\u001b[39mcall_with_http_info(\u001b[38;5;241m*\u001b[39m\u001b[38;5;241m*\u001b[39mkwargs)\n",
      "File \u001b[1;32m~\\anaconda3\\Lib\\site-packages\\pinecone\\core\\openapi\\shared\\api_client.py:819\u001b[0m, in \u001b[0;36mEndpoint.call_with_http_info\u001b[1;34m(self, **kwargs)\u001b[0m\n\u001b[0;32m    816\u001b[0m     header_list \u001b[38;5;241m=\u001b[39m \u001b[38;5;28mself\u001b[39m\u001b[38;5;241m.\u001b[39mapi_client\u001b[38;5;241m.\u001b[39mselect_header_content_type(content_type_headers_list)\n\u001b[0;32m    817\u001b[0m     params[\u001b[38;5;124m\"\u001b[39m\u001b[38;5;124mheader\u001b[39m\u001b[38;5;124m\"\u001b[39m][\u001b[38;5;124m\"\u001b[39m\u001b[38;5;124mContent-Type\u001b[39m\u001b[38;5;124m\"\u001b[39m] \u001b[38;5;241m=\u001b[39m header_list\n\u001b[1;32m--> 819\u001b[0m \u001b[38;5;28;01mreturn\u001b[39;00m \u001b[38;5;28mself\u001b[39m\u001b[38;5;241m.\u001b[39mapi_client\u001b[38;5;241m.\u001b[39mcall_api(\n\u001b[0;32m    820\u001b[0m     \u001b[38;5;28mself\u001b[39m\u001b[38;5;241m.\u001b[39msettings[\u001b[38;5;124m\"\u001b[39m\u001b[38;5;124mendpoint_path\u001b[39m\u001b[38;5;124m\"\u001b[39m],\n\u001b[0;32m    821\u001b[0m     \u001b[38;5;28mself\u001b[39m\u001b[38;5;241m.\u001b[39msettings[\u001b[38;5;124m\"\u001b[39m\u001b[38;5;124mhttp_method\u001b[39m\u001b[38;5;124m\"\u001b[39m],\n\u001b[0;32m    822\u001b[0m     params[\u001b[38;5;124m\"\u001b[39m\u001b[38;5;124mpath\u001b[39m\u001b[38;5;124m\"\u001b[39m],\n\u001b[0;32m    823\u001b[0m     params[\u001b[38;5;124m\"\u001b[39m\u001b[38;5;124mquery\u001b[39m\u001b[38;5;124m\"\u001b[39m],\n\u001b[0;32m    824\u001b[0m     params[\u001b[38;5;124m\"\u001b[39m\u001b[38;5;124mheader\u001b[39m\u001b[38;5;124m\"\u001b[39m],\n\u001b[0;32m    825\u001b[0m     body\u001b[38;5;241m=\u001b[39mparams[\u001b[38;5;124m\"\u001b[39m\u001b[38;5;124mbody\u001b[39m\u001b[38;5;124m\"\u001b[39m],\n\u001b[0;32m    826\u001b[0m     post_params\u001b[38;5;241m=\u001b[39mparams[\u001b[38;5;124m\"\u001b[39m\u001b[38;5;124mform\u001b[39m\u001b[38;5;124m\"\u001b[39m],\n\u001b[0;32m    827\u001b[0m     files\u001b[38;5;241m=\u001b[39mparams[\u001b[38;5;124m\"\u001b[39m\u001b[38;5;124mfile\u001b[39m\u001b[38;5;124m\"\u001b[39m],\n\u001b[0;32m    828\u001b[0m     response_type\u001b[38;5;241m=\u001b[39m\u001b[38;5;28mself\u001b[39m\u001b[38;5;241m.\u001b[39msettings[\u001b[38;5;124m\"\u001b[39m\u001b[38;5;124mresponse_type\u001b[39m\u001b[38;5;124m\"\u001b[39m],\n\u001b[0;32m    829\u001b[0m     auth_settings\u001b[38;5;241m=\u001b[39m\u001b[38;5;28mself\u001b[39m\u001b[38;5;241m.\u001b[39msettings[\u001b[38;5;124m\"\u001b[39m\u001b[38;5;124mauth\u001b[39m\u001b[38;5;124m\"\u001b[39m],\n\u001b[0;32m    830\u001b[0m     async_req\u001b[38;5;241m=\u001b[39mkwargs[\u001b[38;5;124m\"\u001b[39m\u001b[38;5;124masync_req\u001b[39m\u001b[38;5;124m\"\u001b[39m],\n\u001b[0;32m    831\u001b[0m     _check_type\u001b[38;5;241m=\u001b[39mkwargs[\u001b[38;5;124m\"\u001b[39m\u001b[38;5;124m_check_return_type\u001b[39m\u001b[38;5;124m\"\u001b[39m],\n\u001b[0;32m    832\u001b[0m     _return_http_data_only\u001b[38;5;241m=\u001b[39mkwargs[\u001b[38;5;124m\"\u001b[39m\u001b[38;5;124m_return_http_data_only\u001b[39m\u001b[38;5;124m\"\u001b[39m],\n\u001b[0;32m    833\u001b[0m     _preload_content\u001b[38;5;241m=\u001b[39mkwargs[\u001b[38;5;124m\"\u001b[39m\u001b[38;5;124m_preload_content\u001b[39m\u001b[38;5;124m\"\u001b[39m],\n\u001b[0;32m    834\u001b[0m     _request_timeout\u001b[38;5;241m=\u001b[39mkwargs[\u001b[38;5;124m\"\u001b[39m\u001b[38;5;124m_request_timeout\u001b[39m\u001b[38;5;124m\"\u001b[39m],\n\u001b[0;32m    835\u001b[0m     _host\u001b[38;5;241m=\u001b[39m_host,\n\u001b[0;32m    836\u001b[0m     collection_formats\u001b[38;5;241m=\u001b[39mparams[\u001b[38;5;124m\"\u001b[39m\u001b[38;5;124mcollection_format\u001b[39m\u001b[38;5;124m\"\u001b[39m],\n\u001b[0;32m    837\u001b[0m )\n",
      "File \u001b[1;32m~\\anaconda3\\Lib\\site-packages\\pinecone\\core\\openapi\\shared\\api_client.py:380\u001b[0m, in \u001b[0;36mApiClient.call_api\u001b[1;34m(self, resource_path, method, path_params, query_params, header_params, body, post_params, files, response_type, auth_settings, async_req, _return_http_data_only, collection_formats, _preload_content, _request_timeout, _host, _check_type)\u001b[0m\n\u001b[0;32m    326\u001b[0m \u001b[38;5;250m\u001b[39m\u001b[38;5;124;03m\"\"\"Makes the HTTP request (synchronous) and returns deserialized data.\u001b[39;00m\n\u001b[0;32m    327\u001b[0m \n\u001b[0;32m    328\u001b[0m \u001b[38;5;124;03mTo make an async_req request, set the async_req parameter.\u001b[39;00m\n\u001b[1;32m   (...)\u001b[0m\n\u001b[0;32m    377\u001b[0m \u001b[38;5;124;03m    then the method will return the response directly.\u001b[39;00m\n\u001b[0;32m    378\u001b[0m \u001b[38;5;124;03m\"\"\"\u001b[39;00m\n\u001b[0;32m    379\u001b[0m \u001b[38;5;28;01mif\u001b[39;00m \u001b[38;5;129;01mnot\u001b[39;00m async_req:\n\u001b[1;32m--> 380\u001b[0m     \u001b[38;5;28;01mreturn\u001b[39;00m \u001b[38;5;28mself\u001b[39m\u001b[38;5;241m.\u001b[39m__call_api(\n\u001b[0;32m    381\u001b[0m         resource_path,\n\u001b[0;32m    382\u001b[0m         method,\n\u001b[0;32m    383\u001b[0m         path_params,\n\u001b[0;32m    384\u001b[0m         query_params,\n\u001b[0;32m    385\u001b[0m         header_params,\n\u001b[0;32m    386\u001b[0m         body,\n\u001b[0;32m    387\u001b[0m         post_params,\n\u001b[0;32m    388\u001b[0m         files,\n\u001b[0;32m    389\u001b[0m         response_type,\n\u001b[0;32m    390\u001b[0m         auth_settings,\n\u001b[0;32m    391\u001b[0m         _return_http_data_only,\n\u001b[0;32m    392\u001b[0m         collection_formats,\n\u001b[0;32m    393\u001b[0m         _preload_content,\n\u001b[0;32m    394\u001b[0m         _request_timeout,\n\u001b[0;32m    395\u001b[0m         _host,\n\u001b[0;32m    396\u001b[0m         _check_type,\n\u001b[0;32m    397\u001b[0m     )\n\u001b[0;32m    399\u001b[0m \u001b[38;5;28;01mreturn\u001b[39;00m \u001b[38;5;28mself\u001b[39m\u001b[38;5;241m.\u001b[39mpool\u001b[38;5;241m.\u001b[39mapply_async(\n\u001b[0;32m    400\u001b[0m     \u001b[38;5;28mself\u001b[39m\u001b[38;5;241m.\u001b[39m__call_api,\n\u001b[0;32m    401\u001b[0m     (\n\u001b[1;32m   (...)\u001b[0m\n\u001b[0;32m    418\u001b[0m     ),\n\u001b[0;32m    419\u001b[0m )\n",
      "File \u001b[1;32m~\\anaconda3\\Lib\\site-packages\\pinecone\\core\\openapi\\shared\\api_client.py:187\u001b[0m, in \u001b[0;36mApiClient.__call_api\u001b[1;34m(self, resource_path, method, path_params, query_params, header_params, body, post_params, files, response_type, auth_settings, _return_http_data_only, collection_formats, _preload_content, _request_timeout, _host, _check_type)\u001b[0m\n\u001b[0;32m    185\u001b[0m \u001b[38;5;28;01mexcept\u001b[39;00m PineconeApiException \u001b[38;5;28;01mas\u001b[39;00m e:\n\u001b[0;32m    186\u001b[0m     e\u001b[38;5;241m.\u001b[39mbody \u001b[38;5;241m=\u001b[39m e\u001b[38;5;241m.\u001b[39mbody\u001b[38;5;241m.\u001b[39mdecode(\u001b[38;5;124m\"\u001b[39m\u001b[38;5;124mutf-8\u001b[39m\u001b[38;5;124m\"\u001b[39m)\n\u001b[1;32m--> 187\u001b[0m     \u001b[38;5;28;01mraise\u001b[39;00m e\n\u001b[0;32m    189\u001b[0m \u001b[38;5;28mself\u001b[39m\u001b[38;5;241m.\u001b[39mlast_response \u001b[38;5;241m=\u001b[39m response_data\n\u001b[0;32m    191\u001b[0m return_data \u001b[38;5;241m=\u001b[39m response_data\n",
      "File \u001b[1;32m~\\anaconda3\\Lib\\site-packages\\pinecone\\core\\openapi\\shared\\api_client.py:175\u001b[0m, in \u001b[0;36mApiClient.__call_api\u001b[1;34m(self, resource_path, method, path_params, query_params, header_params, body, post_params, files, response_type, auth_settings, _return_http_data_only, collection_formats, _preload_content, _request_timeout, _host, _check_type)\u001b[0m\n\u001b[0;32m    171\u001b[0m     url \u001b[38;5;241m=\u001b[39m _host \u001b[38;5;241m+\u001b[39m resource_path\n\u001b[0;32m    173\u001b[0m \u001b[38;5;28;01mtry\u001b[39;00m:\n\u001b[0;32m    174\u001b[0m     \u001b[38;5;66;03m# perform request and return response\u001b[39;00m\n\u001b[1;32m--> 175\u001b[0m     response_data \u001b[38;5;241m=\u001b[39m \u001b[38;5;28mself\u001b[39m\u001b[38;5;241m.\u001b[39mrequest(\n\u001b[0;32m    176\u001b[0m         method,\n\u001b[0;32m    177\u001b[0m         url,\n\u001b[0;32m    178\u001b[0m         query_params\u001b[38;5;241m=\u001b[39mquery_params,\n\u001b[0;32m    179\u001b[0m         headers\u001b[38;5;241m=\u001b[39mheader_params,\n\u001b[0;32m    180\u001b[0m         post_params\u001b[38;5;241m=\u001b[39mpost_params,\n\u001b[0;32m    181\u001b[0m         body\u001b[38;5;241m=\u001b[39mbody,\n\u001b[0;32m    182\u001b[0m         _preload_content\u001b[38;5;241m=\u001b[39m_preload_content,\n\u001b[0;32m    183\u001b[0m         _request_timeout\u001b[38;5;241m=\u001b[39m_request_timeout,\n\u001b[0;32m    184\u001b[0m     )\n\u001b[0;32m    185\u001b[0m \u001b[38;5;28;01mexcept\u001b[39;00m PineconeApiException \u001b[38;5;28;01mas\u001b[39;00m e:\n\u001b[0;32m    186\u001b[0m     e\u001b[38;5;241m.\u001b[39mbody \u001b[38;5;241m=\u001b[39m e\u001b[38;5;241m.\u001b[39mbody\u001b[38;5;241m.\u001b[39mdecode(\u001b[38;5;124m\"\u001b[39m\u001b[38;5;124mutf-8\u001b[39m\u001b[38;5;124m\"\u001b[39m)\n",
      "File \u001b[1;32m~\\anaconda3\\Lib\\site-packages\\pinecone\\core\\openapi\\shared\\api_client.py:460\u001b[0m, in \u001b[0;36mApiClient.request\u001b[1;34m(self, method, url, query_params, headers, post_params, body, _preload_content, _request_timeout)\u001b[0m\n\u001b[0;32m    450\u001b[0m     \u001b[38;5;28;01mreturn\u001b[39;00m \u001b[38;5;28mself\u001b[39m\u001b[38;5;241m.\u001b[39mrest_client\u001b[38;5;241m.\u001b[39mOPTIONS(\n\u001b[0;32m    451\u001b[0m         url,\n\u001b[0;32m    452\u001b[0m         query_params\u001b[38;5;241m=\u001b[39mquery_params,\n\u001b[1;32m   (...)\u001b[0m\n\u001b[0;32m    457\u001b[0m         body\u001b[38;5;241m=\u001b[39mbody,\n\u001b[0;32m    458\u001b[0m     )\n\u001b[0;32m    459\u001b[0m \u001b[38;5;28;01melif\u001b[39;00m method \u001b[38;5;241m==\u001b[39m \u001b[38;5;124m\"\u001b[39m\u001b[38;5;124mPOST\u001b[39m\u001b[38;5;124m\"\u001b[39m:\n\u001b[1;32m--> 460\u001b[0m     \u001b[38;5;28;01mreturn\u001b[39;00m \u001b[38;5;28mself\u001b[39m\u001b[38;5;241m.\u001b[39mrest_client\u001b[38;5;241m.\u001b[39mPOST(\n\u001b[0;32m    461\u001b[0m         url,\n\u001b[0;32m    462\u001b[0m         query_params\u001b[38;5;241m=\u001b[39mquery_params,\n\u001b[0;32m    463\u001b[0m         headers\u001b[38;5;241m=\u001b[39mheaders,\n\u001b[0;32m    464\u001b[0m         post_params\u001b[38;5;241m=\u001b[39mpost_params,\n\u001b[0;32m    465\u001b[0m         _preload_content\u001b[38;5;241m=\u001b[39m_preload_content,\n\u001b[0;32m    466\u001b[0m         _request_timeout\u001b[38;5;241m=\u001b[39m_request_timeout,\n\u001b[0;32m    467\u001b[0m         body\u001b[38;5;241m=\u001b[39mbody,\n\u001b[0;32m    468\u001b[0m     )\n\u001b[0;32m    469\u001b[0m \u001b[38;5;28;01melif\u001b[39;00m method \u001b[38;5;241m==\u001b[39m \u001b[38;5;124m\"\u001b[39m\u001b[38;5;124mPUT\u001b[39m\u001b[38;5;124m\"\u001b[39m:\n\u001b[0;32m    470\u001b[0m     \u001b[38;5;28;01mreturn\u001b[39;00m \u001b[38;5;28mself\u001b[39m\u001b[38;5;241m.\u001b[39mrest_client\u001b[38;5;241m.\u001b[39mPUT(\n\u001b[0;32m    471\u001b[0m         url,\n\u001b[0;32m    472\u001b[0m         query_params\u001b[38;5;241m=\u001b[39mquery_params,\n\u001b[1;32m   (...)\u001b[0m\n\u001b[0;32m    477\u001b[0m         body\u001b[38;5;241m=\u001b[39mbody,\n\u001b[0;32m    478\u001b[0m     )\n",
      "File \u001b[1;32m~\\anaconda3\\Lib\\site-packages\\pinecone\\core\\openapi\\shared\\rest.py:345\u001b[0m, in \u001b[0;36mRESTClientObject.POST\u001b[1;34m(self, url, headers, query_params, post_params, body, _preload_content, _request_timeout)\u001b[0m\n\u001b[0;32m    335\u001b[0m \u001b[38;5;28;01mdef\u001b[39;00m \u001b[38;5;21mPOST\u001b[39m(\n\u001b[0;32m    336\u001b[0m     \u001b[38;5;28mself\u001b[39m,\n\u001b[0;32m    337\u001b[0m     url,\n\u001b[1;32m   (...)\u001b[0m\n\u001b[0;32m    343\u001b[0m     _request_timeout\u001b[38;5;241m=\u001b[39m\u001b[38;5;28;01mNone\u001b[39;00m,\n\u001b[0;32m    344\u001b[0m ):\n\u001b[1;32m--> 345\u001b[0m     \u001b[38;5;28;01mreturn\u001b[39;00m \u001b[38;5;28mself\u001b[39m\u001b[38;5;241m.\u001b[39mrequest(\n\u001b[0;32m    346\u001b[0m         \u001b[38;5;124m\"\u001b[39m\u001b[38;5;124mPOST\u001b[39m\u001b[38;5;124m\"\u001b[39m,\n\u001b[0;32m    347\u001b[0m         url,\n\u001b[0;32m    348\u001b[0m         headers\u001b[38;5;241m=\u001b[39mheaders,\n\u001b[0;32m    349\u001b[0m         query_params\u001b[38;5;241m=\u001b[39mquery_params,\n\u001b[0;32m    350\u001b[0m         post_params\u001b[38;5;241m=\u001b[39mpost_params,\n\u001b[0;32m    351\u001b[0m         _preload_content\u001b[38;5;241m=\u001b[39m_preload_content,\n\u001b[0;32m    352\u001b[0m         _request_timeout\u001b[38;5;241m=\u001b[39m_request_timeout,\n\u001b[0;32m    353\u001b[0m         body\u001b[38;5;241m=\u001b[39mbody,\n\u001b[0;32m    354\u001b[0m     )\n",
      "File \u001b[1;32m~\\anaconda3\\Lib\\site-packages\\pinecone\\core\\openapi\\shared\\rest.py:279\u001b[0m, in \u001b[0;36mRESTClientObject.request\u001b[1;34m(self, method, url, query_params, headers, body, post_params, _preload_content, _request_timeout)\u001b[0m\n\u001b[0;32m    276\u001b[0m     \u001b[38;5;28;01mif\u001b[39;00m \u001b[38;5;241m500\u001b[39m \u001b[38;5;241m<\u001b[39m\u001b[38;5;241m=\u001b[39m r\u001b[38;5;241m.\u001b[39mstatus \u001b[38;5;241m<\u001b[39m\u001b[38;5;241m=\u001b[39m \u001b[38;5;241m599\u001b[39m:\n\u001b[0;32m    277\u001b[0m         \u001b[38;5;28;01mraise\u001b[39;00m ServiceException(http_resp\u001b[38;5;241m=\u001b[39mr)\n\u001b[1;32m--> 279\u001b[0m     \u001b[38;5;28;01mraise\u001b[39;00m PineconeApiException(http_resp\u001b[38;5;241m=\u001b[39mr)\n\u001b[0;32m    281\u001b[0m \u001b[38;5;28;01mreturn\u001b[39;00m r\n",
      "\u001b[1;31mPineconeApiException\u001b[0m: (400)\nReason: Bad Request\nHTTP response headers: HTTPHeaderDict({'Date': 'Wed, 07 Aug 2024 10:40:23 GMT', 'Content-Type': 'text/plain', 'Content-Length': '73', 'Connection': 'keep-alive', 'server': 'envoy'})\nHTTP response body: queries[1535]: invalid value 0.1 for type type.googleapis.com/QueryVector\n"
     ]
    }
   ],
   "source": [
    "# Query the index\n",
    "query_vector = [0.1] * 1536  # Make sure this is in float format\n",
    "\n",
    "query_response = index.query(queries=[query_vector], top_k=2)\n",
    "print(\"Query Response:\", query_response)\n"
   ]
  },
  {
   "cell_type": "code",
   "execution_count": 119,
   "id": "b15a1f30-90e9-4ee5-a2d0-4b2221a6655b",
   "metadata": {},
   "outputs": [],
   "source": [
    "query_vector = [float(0.1)] * 1536\n"
   ]
  },
  {
   "cell_type": "code",
   "execution_count": 121,
   "id": "2532e5b3-a227-4596-a179-76884156ef01",
   "metadata": {},
   "outputs": [
    {
     "name": "stdout",
     "output_type": "stream",
     "text": [
      "{'dimension': 1536,\n",
      " 'index_fullness': 0.0,\n",
      " 'namespaces': {'': {'vector_count': 1}},\n",
      " 'total_vector_count': 1}\n"
     ]
    }
   ],
   "source": [
    "# Delete the vector from the index\n",
    "index.delete(ids=[vector_id])\n",
    "\n",
    "# Check if the vector was deleted\n",
    "print(index.describe_index_stats())\n"
   ]
  },
  {
   "cell_type": "code",
   "execution_count": 29,
   "id": "0d235efe-a5ac-49ee-bd31-5bd0f41bc21f",
   "metadata": {},
   "outputs": [
    {
     "name": "stdout",
     "output_type": "stream",
     "text": [
      "Requirement already satisfied: pinecone-client in c:\\users\\succe\\anaconda3\\lib\\site-packages (5.0.1)\n",
      "Requirement already satisfied: certifi>=2019.11.17 in c:\\users\\succe\\anaconda3\\lib\\site-packages (from pinecone-client) (2024.7.4)\n",
      "Requirement already satisfied: pinecone-plugin-inference<2.0.0,>=1.0.3 in c:\\users\\succe\\anaconda3\\lib\\site-packages (from pinecone-client) (1.0.3)\n",
      "Requirement already satisfied: pinecone-plugin-interface<0.0.8,>=0.0.7 in c:\\users\\succe\\anaconda3\\lib\\site-packages (from pinecone-client) (0.0.7)\n",
      "Requirement already satisfied: tqdm>=4.64.1 in c:\\users\\succe\\anaconda3\\lib\\site-packages (from pinecone-client) (4.66.4)\n",
      "Requirement already satisfied: typing-extensions>=3.7.4 in c:\\users\\succe\\anaconda3\\lib\\site-packages (from pinecone-client) (4.12.2)\n",
      "Requirement already satisfied: urllib3>=1.26.5 in c:\\users\\succe\\anaconda3\\lib\\site-packages (from pinecone-client) (2.2.2)\n",
      "Requirement already satisfied: colorama in c:\\users\\succe\\anaconda3\\lib\\site-packages (from tqdm>=4.64.1->pinecone-client) (0.4.6)\n",
      "Note: you may need to restart the kernel to use updated packages.\n"
     ]
    }
   ],
   "source": [
    "pip install pinecone-client\n"
   ]
  },
  {
   "cell_type": "code",
   "execution_count": 70,
   "id": "bc48441a-21cf-44dd-8c9e-9104fce8ab59",
   "metadata": {},
   "outputs": [
    {
     "name": "stdout",
     "output_type": "stream",
     "text": [
      "Requirement already satisfied: weaviate-client in c:\\users\\succe\\anaconda3\\lib\\site-packages (4.7.1)\n",
      "Requirement already satisfied: requests<3.0.0,>=2.30.0 in c:\\users\\succe\\anaconda3\\lib\\site-packages (from weaviate-client) (2.32.2)\n",
      "Requirement already satisfied: httpx<=0.27.0,>=0.25.0 in c:\\users\\succe\\anaconda3\\lib\\site-packages (from weaviate-client) (0.26.0)\n",
      "Requirement already satisfied: validators==0.33.0 in c:\\users\\succe\\anaconda3\\lib\\site-packages (from weaviate-client) (0.33.0)\n",
      "Requirement already satisfied: authlib<2.0.0,>=1.2.1 in c:\\users\\succe\\anaconda3\\lib\\site-packages (from weaviate-client) (1.3.1)\n",
      "Requirement already satisfied: pydantic<3.0.0,>=2.5.0 in c:\\users\\succe\\anaconda3\\lib\\site-packages (from weaviate-client) (2.5.3)\n",
      "Requirement already satisfied: grpcio<2.0.0,>=1.57.0 in c:\\users\\succe\\anaconda3\\lib\\site-packages (from weaviate-client) (1.65.4)\n",
      "Requirement already satisfied: grpcio-tools<2.0.0,>=1.57.0 in c:\\users\\succe\\anaconda3\\lib\\site-packages (from weaviate-client) (1.65.4)\n",
      "Requirement already satisfied: grpcio-health-checking<2.0.0,>=1.57.0 in c:\\users\\succe\\anaconda3\\lib\\site-packages (from weaviate-client) (1.65.4)\n",
      "Requirement already satisfied: cryptography in c:\\users\\succe\\anaconda3\\lib\\site-packages (from authlib<2.0.0,>=1.2.1->weaviate-client) (42.0.5)\n",
      "Requirement already satisfied: protobuf<6.0dev,>=5.26.1 in c:\\users\\succe\\anaconda3\\lib\\site-packages (from grpcio-health-checking<2.0.0,>=1.57.0->weaviate-client) (5.27.3)\n",
      "Requirement already satisfied: setuptools in c:\\users\\succe\\anaconda3\\lib\\site-packages (from grpcio-tools<2.0.0,>=1.57.0->weaviate-client) (69.5.1)\n",
      "Requirement already satisfied: anyio in c:\\users\\succe\\anaconda3\\lib\\site-packages (from httpx<=0.27.0,>=0.25.0->weaviate-client) (4.2.0)\n",
      "Requirement already satisfied: certifi in c:\\users\\succe\\anaconda3\\lib\\site-packages (from httpx<=0.27.0,>=0.25.0->weaviate-client) (2024.7.4)\n",
      "Requirement already satisfied: httpcore==1.* in c:\\users\\succe\\anaconda3\\lib\\site-packages (from httpx<=0.27.0,>=0.25.0->weaviate-client) (1.0.2)\n",
      "Requirement already satisfied: idna in c:\\users\\succe\\anaconda3\\lib\\site-packages (from httpx<=0.27.0,>=0.25.0->weaviate-client) (3.7)\n",
      "Requirement already satisfied: sniffio in c:\\users\\succe\\anaconda3\\lib\\site-packages (from httpx<=0.27.0,>=0.25.0->weaviate-client) (1.3.0)\n",
      "Requirement already satisfied: h11<0.15,>=0.13 in c:\\users\\succe\\anaconda3\\lib\\site-packages (from httpcore==1.*->httpx<=0.27.0,>=0.25.0->weaviate-client) (0.14.0)\n",
      "Requirement already satisfied: annotated-types>=0.4.0 in c:\\users\\succe\\anaconda3\\lib\\site-packages (from pydantic<3.0.0,>=2.5.0->weaviate-client) (0.6.0)\n",
      "Requirement already satisfied: pydantic-core==2.14.6 in c:\\users\\succe\\anaconda3\\lib\\site-packages (from pydantic<3.0.0,>=2.5.0->weaviate-client) (2.14.6)\n",
      "Requirement already satisfied: typing-extensions>=4.6.1 in c:\\users\\succe\\anaconda3\\lib\\site-packages (from pydantic<3.0.0,>=2.5.0->weaviate-client) (4.12.2)\n",
      "Requirement already satisfied: charset-normalizer<4,>=2 in c:\\users\\succe\\anaconda3\\lib\\site-packages (from requests<3.0.0,>=2.30.0->weaviate-client) (2.0.4)\n",
      "Requirement already satisfied: urllib3<3,>=1.21.1 in c:\\users\\succe\\anaconda3\\lib\\site-packages (from requests<3.0.0,>=2.30.0->weaviate-client) (2.2.2)\n",
      "Requirement already satisfied: cffi>=1.12 in c:\\users\\succe\\anaconda3\\lib\\site-packages (from cryptography->authlib<2.0.0,>=1.2.1->weaviate-client) (1.16.0)\n",
      "Requirement already satisfied: pycparser in c:\\users\\succe\\anaconda3\\lib\\site-packages (from cffi>=1.12->cryptography->authlib<2.0.0,>=1.2.1->weaviate-client) (2.21)\n",
      "Note: you may need to restart the kernel to use updated packages.\n"
     ]
    }
   ],
   "source": [
    "pip install weaviate-client\n"
   ]
  },
  {
   "cell_type": "code",
   "execution_count": 78,
   "id": "7daa288c-637f-49de-9d7a-b5ad03e10e47",
   "metadata": {},
   "outputs": [
    {
     "name": "stdout",
     "output_type": "stream",
     "text": [
      "Pinecone connected successfully\n"
     ]
    }
   ],
   "source": [
    "# Install the pinecone-client library if not already installed\n",
    "# !pip install pinecone-client\n",
    "\n",
    "import pinecone\n",
    "from pinecone import Pinecone\n",
    "\n",
    "# Initialize Pinecone client\n",
    "try:\n",
    "    pc = Pinecone(api_key='daccfe9f-533e-4aa2-b9da-3565299b74c1')\n",
    "    print(\"Pinecone connected successfully\")\n",
    "except Exception as e:\n",
    "    print(f\"Could not connect to Pinecone: {e}\")\n"
   ]
  },
  {
   "cell_type": "code",
   "execution_count": 142,
   "id": "d80497a0-3ad3-45bf-a876-874fc6e25663",
   "metadata": {},
   "outputs": [
    {
     "name": "stdout",
     "output_type": "stream",
     "text": [
      "Index 'my-index' already exists.\n",
      "Error creating/accessing index: 'Pinecone' object has no attribute 'index'\n",
      "Inserted vectors successfully\n",
      "Query vector: [0.1, 0.1, 0.1, 0.1, 0.1, 0.1, 0.1, 0.1, 0.1, 0.1]... (length: 1536)\n",
      "Error querying vectors: (400)\n",
      "Reason: Bad Request\n",
      "HTTP response headers: HTTPHeaderDict({'Date': 'Tue, 06 Aug 2024 15:27:45 GMT', 'Content-Type': 'text/plain', 'Content-Length': '73', 'Connection': 'keep-alive', 'server': 'envoy'})\n",
      "HTTP response body: queries[1535]: invalid value 0.1 for type type.googleapis.com/QueryVector\n",
      "\n",
      "Deleted vectors successfully\n"
     ]
    }
   ],
   "source": [
    "import os\n",
    "from pinecone import Pinecone, ServerlessSpec\n",
    "\n",
    "# Set your API key\n",
    "api_key = 'b18e15bd-f5a5-4462-b257-c9c8b069d4cf'  # Ensure this is your actual Pinecone API key\n",
    "environment = 'us-east-1'  # Ensure this matches your index's environment\n",
    "\n",
    "# Initialize Pinecone client\n",
    "pc = Pinecone(api_key=api_key, environment=environment)\n",
    "\n",
    "# Create or access the index\n",
    "try:\n",
    "    index_name = 'my-index'  # Ensure the name is lowercase and uses hyphens\n",
    "\n",
    "    # List existing indexes\n",
    "    existing_indexes = pc.list_indexes().names()  # Correct method call\n",
    "    \n",
    "    # Check if the index exists\n",
    "    if index_name not in existing_indexes:\n",
    "        pc.create_index(\n",
    "            name=index_name,\n",
    "            dimension=1536,\n",
    "            metric='cosine',  # Ensure metric matches the index\n",
    "            spec=ServerlessSpec(\n",
    "                cloud='aws',\n",
    "                region='us-east-1'  # Ensure region matches the index\n",
    "            )\n",
    "        )\n",
    "        print(f\"Index '{index_name}' created successfully.\")\n",
    "    else:\n",
    "        print(f\"Index '{index_name}' already exists.\")\n",
    "    \n",
    "    # Access the index\n",
    "    index = pc.index(index_name)\n",
    "    print(f\"Accessed index '{index_name}' successfully.\")\n",
    "except Exception as e:\n",
    "    print(f\"Error creating/accessing index: {e}\")\n",
    "\n",
    "# Writing Data\n",
    "try:\n",
    "    # Example vectors with correct dimension (1536)\n",
    "    vectors = [\n",
    "        ('vec1', [0.1] * 1536),  # Vector of length 1536\n",
    "        ('vec2', [0.2] * 1536)   # Vector of length 1536\n",
    "    ]\n",
    "    index.upsert(vectors)\n",
    "    print(\"Inserted vectors successfully\")\n",
    "except Exception as e:\n",
    "    print(f\"Error inserting vectors: {e}\")\n",
    "\n",
    "# Reading Data\n",
    "try:\n",
    "    # Example query vector with correct dimension (1536)\n",
    "    query_vector = [0.1] * 1536\n",
    "    print(f\"Query vector: {query_vector[:10]}... (length: {len(query_vector)})\")\n",
    "    query_result = index.query(queries=[query_vector], top_k=1)\n",
    "    print(f\"Query result: {query_result}\")\n",
    "except Exception as e:\n",
    "    print(f\"Error querying vectors: {e}\")\n",
    "\n",
    "# Deleting Data\n",
    "try:\n",
    "    index.delete(ids=['vec1', 'vec2'])\n",
    "    print(\"Deleted vectors successfully\")\n",
    "except Exception as e:\n",
    "    print(f\"Error deleting vectors: {e}\")\n"
   ]
  },
  {
   "cell_type": "code",
   "execution_count": 9,
   "id": "cfb73022-dfac-4abc-a467-540b01c0ed8f",
   "metadata": {},
   "outputs": [],
   "source": [
    "import pymongo\n",
    "import pinecone\n",
    "import weaviate\n",
    "\n"
   ]
  },
  {
   "cell_type": "markdown",
   "id": "e184c982-9621-4681-9b7c-9ad5ef2514db",
   "metadata": {},
   "source": [
    "Weaviate (Vector Database)"
   ]
  },
  {
   "cell_type": "code",
   "execution_count": 9,
   "id": "e948729b-0919-458c-b474-4afa66609b0e",
   "metadata": {},
   "outputs": [
    {
     "name": "stdout",
     "output_type": "stream",
     "text": [
      "Weaviate connection is successful.\n"
     ]
    }
   ],
   "source": [
    "from weaviate import Client\n",
    "\n",
    "# Set up the Weaviate client\n",
    "client = Client(\"http://localhost:8080\")\n",
    "\n",
    "# Verify the connection\n",
    "if client.is_ready():\n",
    "    print(\"Weaviate connection is successful.\")\n",
    "else:\n",
    "    print(\"Failed to connect to Weaviate.\")\n"
   ]
  },
  {
   "cell_type": "code",
   "execution_count": 11,
   "id": "153d40f8-e770-4065-9608-933a59cca093",
   "metadata": {},
   "outputs": [
    {
     "name": "stdout",
     "output_type": "stream",
     "text": [
      "Schema created successfully.\n"
     ]
    }
   ],
   "source": [
    "from weaviate import Client\n",
    "\n",
    "client = Client(\"http://localhost:8080\")\n",
    "\n",
    "# Define the schema\n",
    "schema = {\n",
    "    \"classes\": [\n",
    "        {\n",
    "            \"class\": \"Person\",  # The name of the class\n",
    "            \"description\": \"A class for storing person data\",\n",
    "            \"properties\": [\n",
    "                {\n",
    "                    \"name\": \"name\",\n",
    "                    \"dataType\": [\"string\"]\n",
    "                },\n",
    "                {\n",
    "                    \"name\": \"age\",\n",
    "                    \"dataType\": [\"int\"]\n",
    "                }\n",
    "            ]\n",
    "        }\n",
    "    ]\n",
    "}\n",
    "\n",
    "# Create the schema in Weaviate\n",
    "client.schema.create(schema)\n",
    "\n",
    "print(\"Schema created successfully.\")\n"
   ]
  },
  {
   "cell_type": "code",
   "execution_count": 13,
   "id": "9caf890b-4b8c-4e96-93d4-5733e6cf5477",
   "metadata": {},
   "outputs": [
    {
     "name": "stdout",
     "output_type": "stream",
     "text": [
      "Data inserted successfully.\n"
     ]
    }
   ],
   "source": [
    "data_object = {\n",
    "    \"name\": \"Alice\",\n",
    "    \"age\": 30\n",
    "}\n",
    "\n",
    "client.data_object.create(data_object, class_name=\"Person\")\n",
    "\n",
    "print(\"Data inserted successfully.\")\n"
   ]
  },
  {
   "cell_type": "code",
   "execution_count": 15,
   "id": "29364c0b-b2f2-4950-ac54-d882d762df20",
   "metadata": {},
   "outputs": [
    {
     "name": "stdout",
     "output_type": "stream",
     "text": [
      "{'age': 30, 'name': 'Alice'}\n"
     ]
    }
   ],
   "source": [
    "results = client.query.get(\"Person\", [\"name\", \"age\"]).do()\n",
    "\n",
    "for result in results[\"data\"][\"Get\"][\"Person\"]:\n",
    "    print(result)\n",
    "\n"
   ]
  },
  {
   "cell_type": "code",
   "execution_count": 25,
   "id": "d0a111ef-126c-4a29-bcde-87bc64a2d8f0",
   "metadata": {},
   "outputs": [
    {
     "name": "stdout",
     "output_type": "stream",
     "text": [
      "5c840823-1f11-4282-b69c-8d10f78f7df0\n",
      "Response is not in expected format. It's a string.\n"
     ]
    }
   ],
   "source": [
    "import weaviate\n",
    "\n",
    "# Initialize the Weaviate client\n",
    "client = weaviate.Client(\"http://localhost:8080\")\n",
    "\n",
    "# Create an object\n",
    "response = client.data_object.create(\n",
    "    {\n",
    "        \"name\": \"Alice\",\n",
    "        \"age\": 30\n",
    "    },\n",
    "    class_name=\"Person\"\n",
    ")\n",
    "\n",
    "# Print response to check its structure\n",
    "print(response)\n",
    "\n",
    "# Assuming response is JSON or dictionary\n",
    "try:\n",
    "    if isinstance(response, dict):\n",
    "        object_uuid = response.get(\"id\")  # Safely extract UUID\n",
    "        print(f\"Object UUID: {object_uuid}\")\n",
    "    else:\n",
    "        print(\"Response is not in expected format. It's a string.\")\n",
    "except Exception as e:\n",
    "    print(f\"An error occurred: {e}\")\n"
   ]
  },
  {
   "cell_type": "code",
   "execution_count": 27,
   "id": "d0313b90-78a8-4534-b403-5661cfe6c3e0",
   "metadata": {},
   "outputs": [
    {
     "name": "stdout",
     "output_type": "stream",
     "text": [
      "Object UUID: 6c854718-78bd-425d-a11d-5cc03390e846\n"
     ]
    }
   ],
   "source": [
    "import weaviate\n",
    "\n",
    "# Connect to Weaviate instance\n",
    "client = weaviate.Client(\"http://localhost:8080\")\n",
    "\n",
    "# Create an object\n",
    "response = client.data_object.create({\n",
    "    \"name\": \"Alice\",\n",
    "    \"age\": 30\n",
    "}, class_name=\"Person\")\n",
    "\n",
    "# Response is a UUID string\n",
    "object_uuid = response\n",
    "print(f\"Object UUID: {object_uuid}\")\n",
    "\n",
    "# Use the UUID in subsequent operations\n"
   ]
  },
  {
   "cell_type": "code",
   "execution_count": 51,
   "id": "df377e0d-d481-4454-a108-e0b848517b06",
   "metadata": {},
   "outputs": [],
   "source": [
    "def update_object(uuid, updated_data, class_name):\n",
    "    client.data_object.update(\n",
    "        uuid=uuid,  # the UUID of the object to update\n",
    "        class_name=class_name,  # the class name of the object\n",
    "        properties=updated_data  # the updated properties\n",
    "    )\n",
    "    print(\"Data updated successfully.\")\n"
   ]
  },
  {
   "cell_type": "code",
   "execution_count": 55,
   "id": "9d0fad72-6983-4710-bfe6-3f817088f74e",
   "metadata": {},
   "outputs": [
    {
     "name": "stdout",
     "output_type": "stream",
     "text": [
      "Data deleted successfully.\n"
     ]
    },
    {
     "name": "stderr",
     "output_type": "stream",
     "text": [
      "C:\\Users\\succe\\anaconda3\\Lib\\site-packages\\weaviate\\data\\crud_data.py:725: DeprecationWarning: Weaviate Server version >= 1.14.x STRONGLY recommends using class namespaced APIs. To use class namespaced APIs, specify the `class_name` argument. Non-class namespaced APIs (None value for `to_object_class_name`) will be removed in future versions of the Weaviate Server and Weaviate Python Client.\n",
      "  warnings.warn(\n"
     ]
    }
   ],
   "source": [
    "# Define the UUID of the object to delete\n",
    "object_uuid = \"6c854718-78bd-425d-a11d-5cc03390e846\"\n",
    "\n",
    "# Delete the data\n",
    "client.data_object.delete(object_uuid)\n",
    "\n",
    "print(\"Data deleted successfully.\")\n"
   ]
  },
  {
   "cell_type": "code",
   "execution_count": null,
   "id": "9d01ccb0-3962-468c-ab73-959c0cd43b00",
   "metadata": {},
   "outputs": [],
   "source": []
  }
 ],
 "metadata": {
  "kernelspec": {
   "display_name": "Python 3 (ipykernel)",
   "language": "python",
   "name": "python3"
  },
  "language_info": {
   "codemirror_mode": {
    "name": "ipython",
    "version": 3
   },
   "file_extension": ".py",
   "mimetype": "text/x-python",
   "name": "python",
   "nbconvert_exporter": "python",
   "pygments_lexer": "ipython3",
   "version": "3.12.4"
  }
 },
 "nbformat": 4,
 "nbformat_minor": 5
}
